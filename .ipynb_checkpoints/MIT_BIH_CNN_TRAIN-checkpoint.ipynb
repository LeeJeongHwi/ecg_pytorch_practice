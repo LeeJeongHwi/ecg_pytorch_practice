{
 "cells": [
  {
   "cell_type": "code",
   "execution_count": 102,
   "id": "32c484b8",
   "metadata": {},
   "outputs": [
    {
     "data": {
      "text/plain": [
       "<torch._C.Generator at 0x7fa02b869710>"
      ]
     },
     "execution_count": 102,
     "metadata": {},
     "output_type": "execute_result"
    }
   ],
   "source": [
    "import wfdb\n",
    "import os\n",
    "import pandas as pd\n",
    "import wfdb.processing as wp\n",
    "import numpy as np\n",
    "import pickle\n",
    "from biosppy.signals import ecg, tools\n",
    "\n",
    "\n",
    "import torch\n",
    "import torch.nn as nn\n",
    "import torch.utils.data as data\n",
    "from torch.utils.data.dataloader import DataLoader\n",
    "from torch.utils.data.dataset import Dataset\n",
    "from torch import nn, optim\n",
    "\n",
    "import pytorch_model_summary\n",
    "\n",
    "from sklearn.preprocessing import MinMaxScaler as mms\n",
    "\n",
    "import matplotlib.pyplot as plt\n",
    "import matplotlib\n",
    "\n",
    "os.environ[\"CUDA_LAUNCH_BLOCKING\"] = \"1\"\n",
    "os.environ[\"CUDA_VISIbLE_DEVICES\"] = \"0\"\n",
    "torch.manual_seed(1234)"
   ]
  },
  {
   "cell_type": "code",
   "execution_count": 103,
   "id": "f1153fe8",
   "metadata": {},
   "outputs": [
    {
     "name": "stdout",
     "output_type": "stream",
     "text": [
      "['100', '101', '102', '103', '104', '105', '106', '107', '108', '109', '111', '112', '113', '114', '115', '116', '117', '118', '119', '121', '122', '123', '124', '200', '201', '202', '203', '205', '207', '208', '209', '210', '212', '213', '214', '215', '217', '219', '220', '221', '222', '223', '228', '230', '231', '232', '233', '234']\n"
     ]
    }
   ],
   "source": [
    "pickle_path = \"./mit_pickle\"\n",
    "def record_extract(input_path):\n",
    "    records = open(input_path+\"RECORDS\",\"r\")\n",
    "    records_list = []\n",
    "    for l in records:\n",
    "        l = l.rstrip()\n",
    "        records_list.append(l)\n",
    "    records.close()\n",
    "    return records_list\n",
    "#data extract from Physionet\n",
    "\n",
    "input_path = \"../physionet/mit-bih_arr/1.0.0/\"\n",
    "records = open(input_path+\"RECORDS\",\"r\")\n",
    "records_list = []\n",
    "for l in records:\n",
    "    l = l.rstrip()\n",
    "    records_list.append(l)\n",
    "records.close()\n",
    "print(records_list)\n",
    "NORMAL_ANN = ['N', 'L', 'R', 'e', 'j']\n",
    "SUPRA_ANN = ['A', 'a', 'J', 'S']\n",
    "VENTRI_ANN = ['V', 'E']\n",
    "FUSION_ANN = ['F']\n",
    "UNCLASS_ANN = ['/', 'f', 'Q']"
   ]
  },
  {
   "cell_type": "code",
   "execution_count": 104,
   "id": "0708b3be",
   "metadata": {},
   "outputs": [],
   "source": [
    "class conv_gru(nn.Module):\n",
    "    def __init__(self, in_channel, out_channel, batch, hidden_size):\n",
    "        super(conv_gru, self).__init__()\n",
    "        \n",
    "        #input Layer\n",
    "        self.input_Seq1 = nn.Sequential(\n",
    "            nn.Conv1d(in_channels=in_channel, out_channels=32, kernel_size=3, stride=1, padding=1),\n",
    "            nn.BatchNorm1d(32),\n",
    "            nn.ReLU()\n",
    "        )\n",
    "        self.input_Seq2 = nn.Sequential(\n",
    "            nn.Conv1d(in_channels=32, out_channels=64, kernel_size=3, stride=1, padding=1),\n",
    "            nn.BatchNorm1d(64),\n",
    "            nn.ReLU()\n",
    "        )\n",
    "        self.input_Seq3 = nn.Sequential(\n",
    "            nn.Conv1d(in_channels=64, out_channels=128, kernel_size=3, stride=1, padding=1),\n",
    "            nn.BatchNorm1d(128),\n",
    "            nn.ReLU()\n",
    "        )\n",
    "        self.input_Seq4 = nn.Sequential(\n",
    "            nn.Conv1d(in_channels=128, out_channels=256, kernel_size=3, stride=1, padding=1),\n",
    "            nn.BatchNorm1d(256),\n",
    "            nn.ReLU()\n",
    "        )\n",
    "#         self.lfem_module = LFEM_Stack(6)\n",
    "        # reshape\n",
    "        # dropout\n",
    "        # gru\n",
    "        # dense 1\n",
    "        # dense 2\n",
    "        self.dropout = nn.Dropout(0.3)\n",
    "        self.gru = nn.GRU(input_size=320,batch_first=True, hidden_size=hidden_size ,num_layers=2, bidirectional=False)\n",
    "        \n",
    "        self.dense_Seq = nn.Sequential(\n",
    "            nn.Linear(256*hidden_size, 256),\n",
    "            nn.LeakyReLU(inplace=True),\n",
    "            nn.Linear(256,out_channel)\n",
    "        )\n",
    "#         self.softmax = nn.Softmax(dim=1)\n",
    "        \n",
    "    def forward(self, x):\n",
    "        \n",
    "        x = self.input_Seq1(x)\n",
    "        x = self.input_Seq2(x)\n",
    "        x = self.input_Seq3(x)\n",
    "        x = self.input_Seq4(x)\n",
    "        x = self.dropout(x)\n",
    "        x, _ = self.gru(x)\n",
    "        x = x.reshape(x.size(0),-1)\n",
    "        x = self.dense_Seq(x)\n",
    "        \n",
    "#         return self.softmax(x)\n",
    "        return x"
   ]
  },
  {
   "cell_type": "code",
   "execution_count": 109,
   "id": "70f9e586",
   "metadata": {},
   "outputs": [
    {
     "name": "stdout",
     "output_type": "stream",
     "text": [
      "torch.Size([112599, 320]) torch.Size([112599])\n",
      "90080 22519\n"
     ]
    }
   ],
   "source": [
    "# Pickle Data Load\n",
    "\n",
    "def load_data():\n",
    "    pkl_path = \"./pickle/\"\n",
    "\n",
    "    data_x, data_y = [] ,[] \n",
    "    for pkl_file in os.listdir(pkl_path):\n",
    "        if os.path.isdir(pkl_path+pkl_file):\n",
    "            continue\n",
    "        with open(pkl_path+pkl_file, \"rb\") as f:\n",
    "            data = pickle.load(f)\n",
    "            for i,d in enumerate(data[\"Beats\"]):\n",
    "                data_x.append(d)\n",
    "                data_y.append(data[\"symbol\"][i])\n",
    "#             print(torch.tensor(data[\"Beats\"]).shape)\n",
    "#             print(torch.tensor(data[\"symbol\"]).shape)\n",
    "    return torch.tensor(data_x), torch.tensor(data_y)\n",
    "\n",
    "x_data, y_data = load_data()\n",
    "print(x_data.shape, y_data.shape)\n",
    "\n",
    "train_data = torch.utils.data.TensorDataset(x_data,y_data)\n",
    "train_len = x_data.shape[0]\n",
    "# print(train_len)\n",
    "val_len = int(train_len * 0.2)\n",
    "# print(val_len)\n",
    "train_len -= val_len\n",
    "train_dataset, val_dataset = torch.utils.data.random_split(train_data, [train_len, val_len])\n",
    "print(train_len, val_len)\n",
    "\n",
    "lr = 3e-3\n",
    "epochs = 30\n",
    "device = torch.device(\"cuda:1\" if torch.cuda.is_available() else \"cpu\")\n",
    "model = conv_gru(in_channel=1,out_channel=6,batch=256,hidden_size=256)\n",
    "model.to(device)\n",
    "optimizer = optim.Adam(model.parameters(), lr=lr)\n",
    "criterion = nn.CrossEntropyLoss()\n",
    "\n",
    "best_acc, best_epoch = 0, 0\n",
    "global_step = 0"
   ]
  },
  {
   "cell_type": "code",
   "execution_count": 110,
   "id": "bd19f2db",
   "metadata": {},
   "outputs": [
    {
     "name": "stdout",
     "output_type": "stream",
     "text": [
      "90080\n",
      "22519\n"
     ]
    }
   ],
   "source": [
    "print(len(train_dataset))\n",
    "print(len(val_dataset))"
   ]
  },
  {
   "cell_type": "code",
   "execution_count": 111,
   "id": "869c41b0",
   "metadata": {},
   "outputs": [],
   "source": [
    "def evaluate_acc(model, val_loader):\n",
    "    \n",
    "    model.eval()\n",
    "    correct = 0\n",
    "    total = len(val_loader.dataset)\n",
    "    val_bar = tqdm(val_loader)\n",
    "    val_loss = 0\n",
    "    for step, (x, y) in enumerate(val_bar):\n",
    "        x = x.unsqueeze(dim=1).to(device).float()\n",
    "        y = y.to(device).long()\n",
    "        \n",
    "        with torch.no_grad():\n",
    "            logits = model(x)\n",
    "            pred = logits.argmax(dim=1)\n",
    "#             print(pred.shape, y.shape)\n",
    "            loss = criterion(logits, y)\n",
    "            val_loss += loss.item()\n",
    "        \n",
    "        correct += torch.eq(pred, y).sum().float().item()\n",
    "    \n",
    "    return correct/total, val_loss"
   ]
  },
  {
   "cell_type": "code",
   "execution_count": 112,
   "id": "1d1101dc",
   "metadata": {
    "scrolled": true
   },
   "outputs": [
    {
     "name": "stderr",
     "output_type": "stream",
     "text": [
      "Train Epoch[1/30] loss: 0.118: 100%|█████████████████████████████████████████████████████████████████████████████████████████████████████████████████████████████| 352/352 [00:40<00:00,  8.67it/s]\n",
      "100%|██████████████████████████████████████████████████████████████████████████████████████████████████████████████████████████████████████████████████████████████| 88/88 [00:03<00:00, 23.16it/s]\n"
     ]
    },
    {
     "name": "stdout",
     "output_type": "stream",
     "text": [
      "validation ACC : 0.9584350992495226\n",
      "Validation loss decreased (inf --> 14.559632).  Saving model ...\n"
     ]
    },
    {
     "name": "stderr",
     "output_type": "stream",
     "text": [
      "Train Epoch[2/30] loss: 0.070: 100%|█████████████████████████████████████████████████████████████████████████████████████████████████████████████████████████████| 352/352 [00:40<00:00,  8.69it/s]\n",
      "100%|██████████████████████████████████████████████████████████████████████████████████████████████████████████████████████████████████████████████████████████████| 88/88 [00:03<00:00, 23.06it/s]\n"
     ]
    },
    {
     "name": "stdout",
     "output_type": "stream",
     "text": [
      "validation ACC : 0.9735334606332431\n",
      "Validation loss decreased (14.559632 --> 9.064894).  Saving model ...\n"
     ]
    },
    {
     "name": "stderr",
     "output_type": "stream",
     "text": [
      "Train Epoch[3/30] loss: 0.063: 100%|█████████████████████████████████████████████████████████████████████████████████████████████████████████████████████████████| 352/352 [00:40<00:00,  8.67it/s]\n",
      "100%|██████████████████████████████████████████████████████████████████████████████████████████████████████████████████████████████████████████████████████████████| 88/88 [00:03<00:00, 23.09it/s]\n"
     ]
    },
    {
     "name": "stdout",
     "output_type": "stream",
     "text": [
      "validation ACC : 0.9769972023624495\n",
      "Validation loss decreased (9.064894 --> 8.304888).  Saving model ...\n"
     ]
    },
    {
     "name": "stderr",
     "output_type": "stream",
     "text": [
      "Train Epoch[4/30] loss: 0.053: 100%|█████████████████████████████████████████████████████████████████████████████████████████████████████████████████████████████| 352/352 [00:40<00:00,  8.67it/s]\n",
      "100%|██████████████████████████████████████████████████████████████████████████████████████████████████████████████████████████████████████████████████████████████| 88/88 [00:03<00:00, 23.10it/s]\n"
     ]
    },
    {
     "name": "stdout",
     "output_type": "stream",
     "text": [
      "validation ACC : 0.9793507704605\n",
      "Validation loss decreased (8.304888 --> 7.142080).  Saving model ...\n"
     ]
    },
    {
     "name": "stderr",
     "output_type": "stream",
     "text": [
      "Train Epoch[5/30] loss: 0.038: 100%|█████████████████████████████████████████████████████████████████████████████████████████████████████████████████████████████| 352/352 [00:40<00:00,  8.66it/s]\n",
      "100%|██████████████████████████████████████████████████████████████████████████████████████████████████████████████████████████████████████████████████████████████| 88/88 [00:03<00:00, 22.89it/s]\n"
     ]
    },
    {
     "name": "stdout",
     "output_type": "stream",
     "text": [
      "validation ACC : 0.984413162218571\n",
      "Validation loss decreased (7.142080 --> 6.991731).  Saving model ...\n"
     ]
    },
    {
     "name": "stderr",
     "output_type": "stream",
     "text": [
      "Train Epoch[6/30] loss: 0.023: 100%|█████████████████████████████████████████████████████████████████████████████████████████████████████████████████████████████| 352/352 [00:40<00:00,  8.60it/s]\n",
      "100%|██████████████████████████████████████████████████████████████████████████████████████████████████████████████████████████████████████████████████████████████| 88/88 [00:03<00:00, 22.94it/s]\n"
     ]
    },
    {
     "name": "stdout",
     "output_type": "stream",
     "text": [
      "validation ACC : 0.9854789289044806\n",
      "Validation loss decreased (6.991731 --> 5.889399).  Saving model ...\n"
     ]
    },
    {
     "name": "stderr",
     "output_type": "stream",
     "text": [
      "Train Epoch[7/30] loss: 0.034: 100%|█████████████████████████████████████████████████████████████████████████████████████████████████████████████████████████████| 352/352 [00:40<00:00,  8.60it/s]\n",
      "100%|██████████████████████████████████████████████████████████████████████████████████████████████████████████████████████████████████████████████████████████████| 88/88 [00:03<00:00, 22.98it/s]\n",
      "Train Epoch[8/30] loss: 0.103:   0%|▎                                                                                                                              | 1/352 [00:00<00:41,  8.45it/s]"
     ]
    },
    {
     "name": "stdout",
     "output_type": "stream",
     "text": [
      "validation ACC : 0.9857009636307118\n",
      "EarlyStopping counter: 1 out of 3\n"
     ]
    },
    {
     "name": "stderr",
     "output_type": "stream",
     "text": [
      "Train Epoch[8/30] loss: 0.045: 100%|█████████████████████████████████████████████████████████████████████████████████████████████████████████████████████████████| 352/352 [00:40<00:00,  8.61it/s]\n",
      "100%|██████████████████████████████████████████████████████████████████████████████████████████████████████████████████████████████████████████████████████████████| 88/88 [00:03<00:00, 22.97it/s]\n",
      "Train Epoch[9/30] loss: 0.089:   0%|▎                                                                                                                              | 1/352 [00:00<00:40,  8.76it/s]"
     ]
    },
    {
     "name": "stdout",
     "output_type": "stream",
     "text": [
      "validation ACC : 0.9840134997113549\n",
      "EarlyStopping counter: 2 out of 3\n"
     ]
    },
    {
     "name": "stderr",
     "output_type": "stream",
     "text": [
      "Train Epoch[9/30] loss: 0.040: 100%|█████████████████████████████████████████████████████████████████████████████████████████████████████████████████████████████| 352/352 [00:40<00:00,  8.61it/s]\n",
      "100%|██████████████████████████████████████████████████████████████████████████████████████████████████████████████████████████████████████████████████████████████| 88/88 [00:03<00:00, 23.03it/s]"
     ]
    },
    {
     "name": "stdout",
     "output_type": "stream",
     "text": [
      "validation ACC : 0.9762422842932634\n",
      "EarlyStopping counter: 3 out of 3\n"
     ]
    },
    {
     "name": "stderr",
     "output_type": "stream",
     "text": [
      "\n"
     ]
    }
   ],
   "source": [
    "from tqdm import tqdm\n",
    "from pytorchtools import EarlyStopping\n",
    "\n",
    "train_loader = DataLoader(train_dataset, batch_size=256, shuffle=False)\n",
    "val_loader = DataLoader(val_dataset, batch_size=256, shuffle=False)\n",
    "\n",
    "early_stopping = EarlyStopping(patience = 3, verbose = True)\n",
    "\n",
    "\n",
    "loss_list = []\n",
    "\n",
    "for ep in range(epochs):\n",
    "    train_bar = tqdm(train_loader)\n",
    "    for step, (x,y) in enumerate(train_bar):\n",
    "        \n",
    "        x = x.unsqueeze(dim=1)\n",
    "#         print(\"input,\",x.shape, y.shape)\n",
    "        x, y = x.to(device).float(), y.to(device).long()\n",
    "        model.train()\n",
    "        logits = model(x)\n",
    "        loss = criterion(logits, y)\n",
    "        loss_list.append(loss)\n",
    "#         print(loss)\n",
    "        \n",
    "        optimizer.zero_grad()\n",
    "        loss.backward()\n",
    "        \n",
    "        optimizer.step()\n",
    "        \n",
    "        train_bar.desc = \"Train Epoch[{}/{}] loss: {:.3f}\".format(ep+1, epochs, loss)\n",
    "        global_step +=1\n",
    "    \n",
    "#     model.eval()\n",
    "#     val_loss = 0\n",
    "    \n",
    "#     val_bar = tqdm(val_loader)\n",
    "#     for step, (x_, y_) in enumerate(val_bar):\n",
    "#         x_ = x_.unsqueeze(dim=1).to(device).float()\n",
    "#         y_pred = model(x_)\n",
    "#         y_ = y_.to(device).long()\n",
    "#         print(y_.shape, y_pred.shape)\n",
    "#         loss = criterion(y_pred, y_)\n",
    "        \n",
    "#         val_loss += loss.item()\n",
    "    \n",
    "    acc, val_loss = evaluate_acc(model, val_loader)\n",
    "    if acc > best_acc:\n",
    "        best_acc = acc\n",
    "        torch.save(model.state_dict(), \"./best.mdl\")\n",
    "    \n",
    "        \n",
    "    print(\"validation ACC :\",acc)\n",
    "    early_stopping(val_loss, model)\n",
    "    \n",
    "    if early_stopping.early_stop:\n",
    "        break"
   ]
  },
  {
   "cell_type": "code",
   "execution_count": 113,
   "id": "f2673b27",
   "metadata": {},
   "outputs": [
    {
     "data": {
      "text/plain": [
       "<All keys matched successfully>"
      ]
     },
     "execution_count": 113,
     "metadata": {},
     "output_type": "execute_result"
    }
   ],
   "source": [
    "model.load_state_dict(torch.load(\"best.mdl\"))"
   ]
  },
  {
   "cell_type": "markdown",
   "id": "c9065b16",
   "metadata": {},
   "source": [
    "### TEST & Evaluate"
   ]
  },
  {
   "cell_type": "code",
   "execution_count": 120,
   "id": "c0209266",
   "metadata": {},
   "outputs": [
    {
     "name": "stdout",
     "output_type": "stream",
     "text": [
      "torch.Size([112599, 320]) torch.Size([112599])\n"
     ]
    }
   ],
   "source": [
    "def load_data():\n",
    "    pkl_path = \"./pickle/test/\"\n",
    "    data_x, data_y = [] ,[] \n",
    "    for pkl_file in os.listdir(pkl_path):\n",
    "        if os.path.isdir(pkl_path+pkl_file):\n",
    "            continue\n",
    "        with open(pkl_path+pkl_file, \"rb\") as f:\n",
    "            data = pickle.load(f)\n",
    "            for i,d in enumerate(data[\"Beats\"]):\n",
    "                data_x.append(d)\n",
    "                data_y.append(data[\"symbol\"][i])\n",
    "#             print(torch.tensor(data[\"Beats\"]).shape)\n",
    "#             print(torch.tensor(data[\"symbol\"]).shape)\n",
    "    return torch.tensor(data_x), torch.tensor(data_y)\n",
    "\n",
    "x_test_data, y_test_data = load_data()\n",
    "print(x_data.shape, y_data.shape)\n",
    "\n",
    "test_dataset = torch.utils.data.TensorDataset(x_test_data, y_test_data)\n",
    "test_loader = DataLoader(test_dataset, batch_size=256, shuffle=False)"
   ]
  },
  {
   "cell_type": "code",
   "execution_count": 122,
   "id": "3366d9e1",
   "metadata": {},
   "outputs": [
    {
     "name": "stderr",
     "output_type": "stream",
     "text": [
      "100%|██████████████████████████████████████████████████████████████████████████████████████████████████████████████████████████████████████████████████████████████| 65/65 [00:02<00:00, 23.20it/s]\n"
     ]
    }
   ],
   "source": [
    "test_acc, _ = evaluate_acc(model, test_loader)"
   ]
  },
  {
   "cell_type": "code",
   "execution_count": 123,
   "id": "1866c58e",
   "metadata": {
    "scrolled": true
   },
   "outputs": [
    {
     "data": {
      "text/plain": [
       "0.8931551578183577"
      ]
     },
     "execution_count": 123,
     "metadata": {},
     "output_type": "execute_result"
    }
   ],
   "source": [
    "test_acc"
   ]
  }
 ],
 "metadata": {
  "kernelspec": {
   "display_name": "Python 3 (ipykernel)",
   "language": "python",
   "name": "python3"
  },
  "language_info": {
   "codemirror_mode": {
    "name": "ipython",
    "version": 3
   },
   "file_extension": ".py",
   "mimetype": "text/x-python",
   "name": "python",
   "nbconvert_exporter": "python",
   "pygments_lexer": "ipython3",
   "version": "3.8.5"
  }
 },
 "nbformat": 4,
 "nbformat_minor": 5
}
