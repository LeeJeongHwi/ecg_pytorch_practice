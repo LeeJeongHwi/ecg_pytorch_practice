{
 "cells": [
  {
   "cell_type": "markdown",
   "id": "4a2a3165",
   "metadata": {},
   "source": [
    "## Paper : Interpretation of Electrocardiogram Heartbeat by CNN and GRU"
   ]
  },
  {
   "cell_type": "code",
   "execution_count": 210,
   "id": "633168be",
   "metadata": {},
   "outputs": [],
   "source": [
    "import wfdb\n",
    "import os\n",
    "import pandas as pd\n",
    "import wfdb.processing as wp\n",
    "import numpy as np\n",
    "import pickle\n",
    "from biosppy.signals import ecg, tools\n",
    "\n",
    "\n",
    "import torch\n",
    "import torch.nn as nn\n",
    "import torch.utils.data as data\n",
    "from torch.utils.data.dataloader import DataLoader\n",
    "from torch.utils.data.dataset import Dataset\n",
    "from torch import nn, optim\n",
    "\n",
    "import pytorch_model_summary\n",
    "\n",
    "from sklearn.preprocessing import MinMaxScaler as mms\n",
    "\n",
    "import matplotlib.pyplot as plt\n",
    "import matplotlib\n",
    "\n",
    "os.environ[\"CUDA_LAUNCH_BLOCKING\"] = \"1\"\n",
    "os.environ[\"CUDA_VISIbLE_DEVICES\"] = \"0\""
   ]
  },
  {
   "cell_type": "code",
   "execution_count": 211,
   "id": "7d6995db",
   "metadata": {},
   "outputs": [],
   "source": [
    "# Interpretation of Electrocardiogram Heartbeat by CNN and GRU (not Use)\n",
    "class LFEM(nn.Module):\n",
    "    def __init__(self, in_channel, out_channel, kernel_size):\n",
    "        super(LFEM, self).__init__()\n",
    "        \n",
    "        self.lfem_seq = nn.Sequential(\n",
    "            nn.Conv1d(in_channels=in_channel, out_channels=out_channel, kernel_size=kernel_size, stride=1, padding=1),\n",
    "            nn.Conv1d(in_channels=out_channel, out_channels=out_channel, kernel_size=kernel_size, stride=1, padding=1),\n",
    "            nn.BatchNorm1d(out_channel),\n",
    "            nn.ReLU(),\n",
    "            nn.MaxPool1d(2),\n",
    "        )\n",
    "    \n",
    "    def forward(self, x):\n",
    "        return self.lfem_seq(x)\n",
    "\n",
    "class LFEM_Stack(nn.Module):\n",
    "    def __init__(self, num_layer=6):\n",
    "        super(LFEM_Stack, self).__init__()\n",
    "        \n",
    "        self.num_layer = num_layer\n",
    "        self.lfem_list = []\n",
    "        layer_size=[64,64,128,128,256,256]\n",
    "        for i in range(num_layer-1):\n",
    "            self.lfem_list.append(LFEM(in_channel=layer_size[i], out_channel=layer_size[i+1], kernel_size=3))\n",
    "        self.lfem_list.append(LFEM(in_channel=layer_size[5], out_channel=layer_size[5], kernel_size=3))\n",
    "            \n",
    "    def forward(self, x):\n",
    "        for i in range(self.num_layer):\n",
    "            x = self.lfem_list[i](x)\n",
    "            \n",
    "        return x"
   ]
  },
  {
   "cell_type": "code",
   "execution_count": 214,
   "id": "ab9d0aaa",
   "metadata": {},
   "outputs": [],
   "source": [
    "class conv_gru(nn.Module):\n",
    "    def __init__(self, in_channel, out_channel, batch, hidden_size):\n",
    "        super(conv_gru, self).__init__()\n",
    "        \n",
    "        self.input_seq = nn.Sequential(\n",
    "            nn.Conv1d(in_channels=in_channel,out_channels=32, kernel_size=3, stride=1, padding=1),\n",
    "            nn.BatchNorm1d(32),\n",
    "            nn.ReLU(),\n",
    "        )\n",
    "        \n",
    "        \n",
    "        \n",
    "        self.LFEM1 = LFEM(32,64,3)\n",
    "        self.LFEM2 = LFEM(64,64,3)\n",
    "        self.LFEM3 = LFEM(64,128,3)\n",
    "        self.LFEM4 = LFEM(128,128,3)\n",
    "        self.LFEM5 = LFEM(128,256,3)\n",
    "        self.LFEM6 = LFEM(256,256,3)\n",
    "        \n",
    "        \n",
    "        self.dropout = nn.Dropout(0.3)\n",
    "        \n",
    "        self.gru = nn.GRU(input_size=1280 ,batch_first=True, hidden_size=hidden_size, num_layers=2, bidirectional=False)\n",
    "        self.dense_seq = nn.Sequential(\n",
    "            nn.Linear(hidden_size, 256),\n",
    "            nn.LeakyReLU(inplace=True),\n",
    "            nn.Linear(256, out_channel)\n",
    "        )\n",
    "        self.softmax = nn.Softmax(dim=1)\n",
    "    def forward(self, x):\n",
    "        x = self.input_seq(x)\n",
    "        x = self.LFEM1(x)\n",
    "        x = self.LFEM2(x)\n",
    "        x = self.LFEM3(x)\n",
    "        x = self.LFEM4(x)\n",
    "        x = self.LFEM5(x)\n",
    "        x = self.LFEM6(x)\n",
    "        x = self.dropout(x)\n",
    "        x = x.reshape(x.size(0),-1)\n",
    "        x = x.unsqueeze(1)\n",
    "        x, _ = self.gru(x)\n",
    "        x = x.squeeze(1)\n",
    "        x = self.dense_seq(x)\n",
    "        return self.softmax(x)"
   ]
  },
  {
   "cell_type": "code",
   "execution_count": 215,
   "id": "5caffe0d",
   "metadata": {
    "scrolled": true
   },
   "outputs": [
    {
     "data": {
      "text/plain": [
       "conv_gru(\n",
       "  (input_seq): Sequential(\n",
       "    (0): Conv1d(1, 32, kernel_size=(3,), stride=(1,), padding=(1,))\n",
       "    (1): BatchNorm1d(32, eps=1e-05, momentum=0.1, affine=True, track_running_stats=True)\n",
       "    (2): ReLU()\n",
       "  )\n",
       "  (LFEM1): LFEM(\n",
       "    (lfem_seq): Sequential(\n",
       "      (0): Conv1d(32, 64, kernel_size=(3,), stride=(1,), padding=(1,))\n",
       "      (1): Conv1d(64, 64, kernel_size=(3,), stride=(1,), padding=(1,))\n",
       "      (2): BatchNorm1d(64, eps=1e-05, momentum=0.1, affine=True, track_running_stats=True)\n",
       "      (3): ReLU()\n",
       "      (4): MaxPool1d(kernel_size=2, stride=2, padding=0, dilation=1, ceil_mode=False)\n",
       "    )\n",
       "  )\n",
       "  (LFEM2): LFEM(\n",
       "    (lfem_seq): Sequential(\n",
       "      (0): Conv1d(64, 64, kernel_size=(3,), stride=(1,), padding=(1,))\n",
       "      (1): Conv1d(64, 64, kernel_size=(3,), stride=(1,), padding=(1,))\n",
       "      (2): BatchNorm1d(64, eps=1e-05, momentum=0.1, affine=True, track_running_stats=True)\n",
       "      (3): ReLU()\n",
       "      (4): MaxPool1d(kernel_size=2, stride=2, padding=0, dilation=1, ceil_mode=False)\n",
       "    )\n",
       "  )\n",
       "  (LFEM3): LFEM(\n",
       "    (lfem_seq): Sequential(\n",
       "      (0): Conv1d(64, 128, kernel_size=(3,), stride=(1,), padding=(1,))\n",
       "      (1): Conv1d(128, 128, kernel_size=(3,), stride=(1,), padding=(1,))\n",
       "      (2): BatchNorm1d(128, eps=1e-05, momentum=0.1, affine=True, track_running_stats=True)\n",
       "      (3): ReLU()\n",
       "      (4): MaxPool1d(kernel_size=2, stride=2, padding=0, dilation=1, ceil_mode=False)\n",
       "    )\n",
       "  )\n",
       "  (LFEM4): LFEM(\n",
       "    (lfem_seq): Sequential(\n",
       "      (0): Conv1d(128, 128, kernel_size=(3,), stride=(1,), padding=(1,))\n",
       "      (1): Conv1d(128, 128, kernel_size=(3,), stride=(1,), padding=(1,))\n",
       "      (2): BatchNorm1d(128, eps=1e-05, momentum=0.1, affine=True, track_running_stats=True)\n",
       "      (3): ReLU()\n",
       "      (4): MaxPool1d(kernel_size=2, stride=2, padding=0, dilation=1, ceil_mode=False)\n",
       "    )\n",
       "  )\n",
       "  (LFEM5): LFEM(\n",
       "    (lfem_seq): Sequential(\n",
       "      (0): Conv1d(128, 256, kernel_size=(3,), stride=(1,), padding=(1,))\n",
       "      (1): Conv1d(256, 256, kernel_size=(3,), stride=(1,), padding=(1,))\n",
       "      (2): BatchNorm1d(256, eps=1e-05, momentum=0.1, affine=True, track_running_stats=True)\n",
       "      (3): ReLU()\n",
       "      (4): MaxPool1d(kernel_size=2, stride=2, padding=0, dilation=1, ceil_mode=False)\n",
       "    )\n",
       "  )\n",
       "  (LFEM6): LFEM(\n",
       "    (lfem_seq): Sequential(\n",
       "      (0): Conv1d(256, 256, kernel_size=(3,), stride=(1,), padding=(1,))\n",
       "      (1): Conv1d(256, 256, kernel_size=(3,), stride=(1,), padding=(1,))\n",
       "      (2): BatchNorm1d(256, eps=1e-05, momentum=0.1, affine=True, track_running_stats=True)\n",
       "      (3): ReLU()\n",
       "      (4): MaxPool1d(kernel_size=2, stride=2, padding=0, dilation=1, ceil_mode=False)\n",
       "    )\n",
       "  )\n",
       "  (dropout): Dropout(p=0.3, inplace=False)\n",
       "  (gru): GRU(1280, 256, num_layers=2, batch_first=True)\n",
       "  (dense_seq): Sequential(\n",
       "    (0): Linear(in_features=256, out_features=256, bias=True)\n",
       "    (1): LeakyReLU(negative_slope=0.01, inplace=True)\n",
       "    (2): Linear(in_features=256, out_features=6, bias=True)\n",
       "  )\n",
       "  (softmax): Softmax(dim=1)\n",
       ")"
      ]
     },
     "execution_count": 215,
     "metadata": {},
     "output_type": "execute_result"
    }
   ],
   "source": [
    "device = torch.device(\"cuda:0\" if torch.cuda.is_available() else \"cpu\")\n",
    "model = conv_gru(in_channel=1, out_channel=6, batch=32, hidden_size=256)\n",
    "model.to(device)"
   ]
  },
  {
   "cell_type": "code",
   "execution_count": 216,
   "id": "b606c10c",
   "metadata": {
    "scrolled": true
   },
   "outputs": [
    {
     "name": "stdout",
     "output_type": "stream",
     "text": [
      "-----------------------------------------------------------------------\n",
      "      Layer (type)         Input Shape         Param #     Tr. Param #\n",
      "=======================================================================\n",
      "          Conv1d-1        [32, 1, 320]             128             128\n",
      "     BatchNorm1d-2       [32, 32, 320]              64              64\n",
      "            ReLU-3       [32, 32, 320]               0               0\n",
      "            LFEM-4       [32, 32, 320]          18,688          18,688\n",
      "            LFEM-5       [32, 64, 160]          24,832          24,832\n",
      "            LFEM-6        [32, 64, 80]          74,240          74,240\n",
      "            LFEM-7       [32, 128, 40]          98,816          98,816\n",
      "            LFEM-8       [32, 128, 20]         295,936         295,936\n",
      "            LFEM-9       [32, 256, 10]         394,240         394,240\n",
      "        Dropout-10        [32, 256, 5]               0               0\n",
      "            GRU-11       [32, 1, 1280]       1,575,936       1,575,936\n",
      "         Linear-12           [32, 256]          65,792          65,792\n",
      "      LeakyReLU-13           [32, 256]               0               0\n",
      "         Linear-14           [32, 256]           1,542           1,542\n",
      "        Softmax-15             [32, 6]               0               0\n",
      "=======================================================================\n",
      "Total params: 2,550,214\n",
      "Trainable params: 2,550,214\n",
      "Non-trainable params: 0\n",
      "Batch size: 32\n",
      "-----------------------------------------------------------------------\n",
      "\n",
      "\n",
      "========================================= Hierarchical Summary =========================================\n",
      "\n",
      "conv_gru(\n",
      "  (input_seq): Sequential(\n",
      "    (0): Conv1d(1, 32, kernel_size=(3,), stride=(1,), padding=(1,)), 128 params\n",
      "    (1): BatchNorm1d(32, eps=1e-05, momentum=0.1, affine=True, track_running_stats=True), 64 params\n",
      "    (2): ReLU(), 0 params\n",
      "  ), 192 params\n",
      "  (LFEM1): LFEM(\n",
      "    (lfem_seq): Sequential(\n",
      "      (0): Conv1d(32, 64, kernel_size=(3,), stride=(1,), padding=(1,)), 6,208 params\n",
      "      (1): Conv1d(64, 64, kernel_size=(3,), stride=(1,), padding=(1,)), 12,352 params\n",
      "      (2): BatchNorm1d(64, eps=1e-05, momentum=0.1, affine=True, track_running_stats=True), 128 params\n",
      "      (3): ReLU(), 0 params\n",
      "      (4): MaxPool1d(kernel_size=2, stride=2, padding=0, dilation=1, ceil_mode=False), 0 params\n",
      "    ), 18,688 params\n",
      "  ), 18,688 params\n",
      "  (LFEM2): LFEM(\n",
      "    (lfem_seq): Sequential(\n",
      "      (0): Conv1d(64, 64, kernel_size=(3,), stride=(1,), padding=(1,)), 12,352 params\n",
      "      (1): Conv1d(64, 64, kernel_size=(3,), stride=(1,), padding=(1,)), 12,352 params\n",
      "      (2): BatchNorm1d(64, eps=1e-05, momentum=0.1, affine=True, track_running_stats=True), 128 params\n",
      "      (3): ReLU(), 0 params\n",
      "      (4): MaxPool1d(kernel_size=2, stride=2, padding=0, dilation=1, ceil_mode=False), 0 params\n",
      "    ), 24,832 params\n",
      "  ), 24,832 params\n",
      "  (LFEM3): LFEM(\n",
      "    (lfem_seq): Sequential(\n",
      "      (0): Conv1d(64, 128, kernel_size=(3,), stride=(1,), padding=(1,)), 24,704 params\n",
      "      (1): Conv1d(128, 128, kernel_size=(3,), stride=(1,), padding=(1,)), 49,280 params\n",
      "      (2): BatchNorm1d(128, eps=1e-05, momentum=0.1, affine=True, track_running_stats=True), 256 params\n",
      "      (3): ReLU(), 0 params\n",
      "      (4): MaxPool1d(kernel_size=2, stride=2, padding=0, dilation=1, ceil_mode=False), 0 params\n",
      "    ), 74,240 params\n",
      "  ), 74,240 params\n",
      "  (LFEM4): LFEM(\n",
      "    (lfem_seq): Sequential(\n",
      "      (0): Conv1d(128, 128, kernel_size=(3,), stride=(1,), padding=(1,)), 49,280 params\n",
      "      (1): Conv1d(128, 128, kernel_size=(3,), stride=(1,), padding=(1,)), 49,280 params\n",
      "      (2): BatchNorm1d(128, eps=1e-05, momentum=0.1, affine=True, track_running_stats=True), 256 params\n",
      "      (3): ReLU(), 0 params\n",
      "      (4): MaxPool1d(kernel_size=2, stride=2, padding=0, dilation=1, ceil_mode=False), 0 params\n",
      "    ), 98,816 params\n",
      "  ), 98,816 params\n",
      "  (LFEM5): LFEM(\n",
      "    (lfem_seq): Sequential(\n",
      "      (0): Conv1d(128, 256, kernel_size=(3,), stride=(1,), padding=(1,)), 98,560 params\n",
      "      (1): Conv1d(256, 256, kernel_size=(3,), stride=(1,), padding=(1,)), 196,864 params\n",
      "      (2): BatchNorm1d(256, eps=1e-05, momentum=0.1, affine=True, track_running_stats=True), 512 params\n",
      "      (3): ReLU(), 0 params\n",
      "      (4): MaxPool1d(kernel_size=2, stride=2, padding=0, dilation=1, ceil_mode=False), 0 params\n",
      "    ), 295,936 params\n",
      "  ), 295,936 params\n",
      "  (LFEM6): LFEM(\n",
      "    (lfem_seq): Sequential(\n",
      "      (0): Conv1d(256, 256, kernel_size=(3,), stride=(1,), padding=(1,)), 196,864 params\n",
      "      (1): Conv1d(256, 256, kernel_size=(3,), stride=(1,), padding=(1,)), 196,864 params\n",
      "      (2): BatchNorm1d(256, eps=1e-05, momentum=0.1, affine=True, track_running_stats=True), 512 params\n",
      "      (3): ReLU(), 0 params\n",
      "      (4): MaxPool1d(kernel_size=2, stride=2, padding=0, dilation=1, ceil_mode=False), 0 params\n",
      "    ), 394,240 params\n",
      "  ), 394,240 params\n",
      "  (dropout): Dropout(p=0.3, inplace=False), 0 params\n",
      "  (gru): GRU(1280, 256, num_layers=2, batch_first=True), 1,575,936 params\n",
      "  (dense_seq): Sequential(\n",
      "    (0): Linear(in_features=256, out_features=256, bias=True), 65,792 params\n",
      "    (1): LeakyReLU(negative_slope=0.01, inplace=True), 0 params\n",
      "    (2): Linear(in_features=256, out_features=6, bias=True), 1,542 params\n",
      "  ), 67,334 params\n",
      "  (softmax): Softmax(dim=1), 0 params\n",
      "), 2,550,214 params\n",
      "\n",
      "\n",
      "========================================================================================================\n",
      "\n"
     ]
    }
   ],
   "source": [
    "print(pytorch_model_summary.summary(model,torch.randn(32,1,320).cuda(), show_input=True, batch_size=32, show_hierarchical=True))"
   ]
  },
  {
   "cell_type": "code",
   "execution_count": 217,
   "id": "a3d9e692",
   "metadata": {},
   "outputs": [
    {
     "name": "stdout",
     "output_type": "stream",
     "text": [
      "torch.Size([112599, 320]) torch.Size([112599])\n",
      "90080 22519\n"
     ]
    }
   ],
   "source": [
    "# Pickle Data Load\n",
    "\n",
    "def load_data():\n",
    "    pkl_path = \"./pickle/\"\n",
    "\n",
    "    data_x, data_y = [] ,[] \n",
    "    for pkl_file in os.listdir(pkl_path):\n",
    "        if os.path.isdir(pkl_path+pkl_file):\n",
    "            continue\n",
    "        with open(pkl_path+pkl_file, \"rb\") as f:\n",
    "            data = pickle.load(f)\n",
    "            for i,d in enumerate(data[\"Beats\"]):\n",
    "                data_x.append(d)\n",
    "                data_y.append(data[\"symbol\"][i])\n",
    "#             print(torch.tensor(data[\"Beats\"]).shape)\n",
    "#             print(torch.tensor(data[\"symbol\"]).shape)\n",
    "    return torch.tensor(data_x), torch.tensor(data_y)\n",
    "\n",
    "x_data, y_data = load_data()\n",
    "print(x_data.shape, y_data.shape)\n",
    "\n",
    "train_data = torch.utils.data.TensorDataset(x_data,y_data)\n",
    "train_len = x_data.shape[0]\n",
    "# print(train_len)\n",
    "val_len = int(train_len * 0.2)\n",
    "# print(val_len)\n",
    "train_len -= val_len\n",
    "train_dataset, val_dataset = torch.utils.data.random_split(train_data, [train_len, val_len])\n",
    "print(train_len, val_len)\n",
    "\n",
    "lr = 1e-5\n",
    "epochs = 30\n",
    "device = torch.device(\"cuda:1\" if torch.cuda.is_available() else \"cpu\")\n",
    "model = conv_gru(in_channel=1,out_channel=6,batch=256,hidden_size=256)\n",
    "model.to(device)\n",
    "optimizer = optim.Adam(model.parameters(), lr=lr)\n",
    "criterion = nn.CrossEntropyLoss()\n",
    "\n",
    "best_acc, best_epoch = 0, 0\n",
    "global_step = 0"
   ]
  },
  {
   "cell_type": "code",
   "execution_count": 218,
   "id": "22a420f3",
   "metadata": {},
   "outputs": [
    {
     "data": {
      "text/plain": [
       "torch.Size([112599, 320])"
      ]
     },
     "execution_count": 218,
     "metadata": {},
     "output_type": "execute_result"
    }
   ],
   "source": [
    "x_data.shape"
   ]
  },
  {
   "cell_type": "code",
   "execution_count": 219,
   "id": "6e436479",
   "metadata": {},
   "outputs": [
    {
     "data": {
      "text/plain": [
       "torch.Size([112599])"
      ]
     },
     "execution_count": 219,
     "metadata": {},
     "output_type": "execute_result"
    }
   ],
   "source": [
    "y_data.shape"
   ]
  },
  {
   "cell_type": "code",
   "execution_count": 220,
   "id": "bb2fc82f",
   "metadata": {},
   "outputs": [
    {
     "name": "stdout",
     "output_type": "stream",
     "text": [
      "112599\n",
      "22519\n",
      "90080\n"
     ]
    }
   ],
   "source": [
    "train_data = torch.utils.data.TensorDataset(x_data,y_data)\n",
    "train_len = x_data.shape[0]\n",
    "print(train_len)\n",
    "val_len = int(train_len * 0.2)\n",
    "print(val_len)\n",
    "train_len -= val_len\n",
    "print(train_len)\n",
    "train_dataset, val_dataset = torch.utils.data.random_split(train_data, [train_len, val_len])\n",
    "\n",
    "# train_loader = DataLoader(train_dataset, batch_size=32, shuffle=False)\n",
    "# val_loader = DataLoader(val_dataset, batch_size=32, shuffle=False)"
   ]
  },
  {
   "cell_type": "code",
   "execution_count": 221,
   "id": "70c5fa71",
   "metadata": {},
   "outputs": [
    {
     "name": "stdout",
     "output_type": "stream",
     "text": [
      "90080\n",
      "22519\n"
     ]
    }
   ],
   "source": [
    "print(len(train_dataset))\n",
    "print(len(val_dataset))"
   ]
  },
  {
   "cell_type": "code",
   "execution_count": 222,
   "id": "414fb2d6",
   "metadata": {},
   "outputs": [],
   "source": [
    "def evaluate_acc(model, val_loader):\n",
    "    \n",
    "    model.eval()\n",
    "    correct = 0\n",
    "    total = len(val_loader.dataset)\n",
    "    val_bar = tqdm(val_loader)\n",
    "    val_loss = 0\n",
    "    for step, (x, y) in enumerate(val_bar):\n",
    "        x = x.unsqueeze(dim=1).to(device).float()\n",
    "        y = y.to(device).long()\n",
    "        \n",
    "        with torch.no_grad():\n",
    "            logits = model(x)\n",
    "            pred = logits.argmax(dim=1)\n",
    "#             print(pred.shape, y.shape)\n",
    "            loss = criterion(logits, y)\n",
    "            val_loss += loss.item()\n",
    "        \n",
    "        correct += torch.eq(pred, y).sum().float().item()\n",
    "    \n",
    "    return correct/total, val_loss"
   ]
  },
  {
   "cell_type": "code",
   "execution_count": 223,
   "id": "87da7709",
   "metadata": {
    "scrolled": false
   },
   "outputs": [
    {
     "name": "stderr",
     "output_type": "stream",
     "text": [
      "Train Epoch[1/30] loss: 1.239: 100%|██████████████████████████████████████████████████████████████████████████████████████████████████████████████████████████████████████████████████| 352/352 [00:09<00:00, 38.22it/s]\n",
      "100%|██████████████████████████████████████████████████████████████████████████████████████████████████████████████████████████████████████████████████████████████████████████████████| 88/88 [00:00<00:00, 122.31it/s]\n",
      "Train Epoch[2/30] loss: 1.267:   1%|█▋                                                                                                                                                  | 4/352 [00:00<00:09, 37.10it/s]"
     ]
    },
    {
     "name": "stdout",
     "output_type": "stream",
     "text": [
      "validation ACC : 0.8697988365380346\n",
      "Validation loss decreased (inf --> 107.744096).  Saving model ...\n"
     ]
    },
    {
     "name": "stderr",
     "output_type": "stream",
     "text": [
      "Train Epoch[2/30] loss: 1.169: 100%|██████████████████████████████████████████████████████████████████████████████████████████████████████████████████████████████████████████████████| 352/352 [00:09<00:00, 38.19it/s]\n",
      "100%|██████████████████████████████████████████████████████████████████████████████████████████████████████████████████████████████████████████████████████████████████████████████████| 88/88 [00:00<00:00, 122.30it/s]\n",
      "Train Epoch[3/30] loss: 1.200:   1%|█▋                                                                                                                                                  | 4/352 [00:00<00:09, 37.13it/s]"
     ]
    },
    {
     "name": "stdout",
     "output_type": "stream",
     "text": [
      "validation ACC : 0.9184688485279098\n",
      "Validation loss decreased (107.744096 --> 101.822823).  Saving model ...\n"
     ]
    },
    {
     "name": "stderr",
     "output_type": "stream",
     "text": [
      "Train Epoch[3/30] loss: 1.122: 100%|██████████████████████████████████████████████████████████████████████████████████████████████████████████████████████████████████████████████████| 352/352 [00:09<00:00, 38.14it/s]\n",
      "100%|██████████████████████████████████████████████████████████████████████████████████████████████████████████████████████████████████████████████████████████████████████████████████| 88/88 [00:00<00:00, 122.26it/s]\n",
      "Train Epoch[4/30] loss: 1.149:   1%|█▋                                                                                                                                                  | 4/352 [00:00<00:09, 36.81it/s]"
     ]
    },
    {
     "name": "stdout",
     "output_type": "stream",
     "text": [
      "validation ACC : 0.9317021182112882\n",
      "Validation loss decreased (101.822823 --> 97.980291).  Saving model ...\n"
     ]
    },
    {
     "name": "stderr",
     "output_type": "stream",
     "text": [
      "Train Epoch[4/30] loss: 1.111: 100%|██████████████████████████████████████████████████████████████████████████████████████████████████████████████████████████████████████████████████| 352/352 [00:09<00:00, 37.71it/s]\n",
      "100%|██████████████████████████████████████████████████████████████████████████████████████████████████████████████████████████████████████████████████████████████████████████████████| 88/88 [00:00<00:00, 122.37it/s]\n",
      "Train Epoch[5/30] loss: 1.137:   1%|█▋                                                                                                                                                  | 4/352 [00:00<00:09, 36.97it/s]"
     ]
    },
    {
     "name": "stdout",
     "output_type": "stream",
     "text": [
      "validation ACC : 0.9595452728806786\n",
      "Validation loss decreased (97.980291 --> 96.561726).  Saving model ...\n"
     ]
    },
    {
     "name": "stderr",
     "output_type": "stream",
     "text": [
      "Train Epoch[5/30] loss: 1.092: 100%|██████████████████████████████████████████████████████████████████████████████████████████████████████████████████████████████████████████████████| 352/352 [00:09<00:00, 38.15it/s]\n",
      "100%|██████████████████████████████████████████████████████████████████████████████████████████████████████████████████████████████████████████████████████████████████████████████████| 88/88 [00:00<00:00, 122.60it/s]\n",
      "Train Epoch[6/30] loss: 1.115:   1%|█▋                                                                                                                                                  | 4/352 [00:00<00:09, 36.95it/s]"
     ]
    },
    {
     "name": "stdout",
     "output_type": "stream",
     "text": [
      "validation ACC : 0.963009014609885\n",
      "Validation loss decreased (96.561726 --> 95.403527).  Saving model ...\n"
     ]
    },
    {
     "name": "stderr",
     "output_type": "stream",
     "text": [
      "Train Epoch[6/30] loss: 1.086: 100%|██████████████████████████████████████████████████████████████████████████████████████████████████████████████████████████████████████████████████| 352/352 [00:09<00:00, 38.09it/s]\n",
      "100%|██████████████████████████████████████████████████████████████████████████████████████████████████████████████████████████████████████████████████████████████████████████████████| 88/88 [00:00<00:00, 121.66it/s]\n",
      "Train Epoch[7/30] loss: 1.113:   1%|█▋                                                                                                                                                  | 4/352 [00:00<00:09, 36.89it/s]"
     ]
    },
    {
     "name": "stdout",
     "output_type": "stream",
     "text": [
      "validation ACC : 0.9634974910075936\n",
      "Validation loss decreased (95.403527 --> 95.166834).  Saving model ...\n"
     ]
    },
    {
     "name": "stderr",
     "output_type": "stream",
     "text": [
      "Train Epoch[7/30] loss: 1.083: 100%|██████████████████████████████████████████████████████████████████████████████████████████████████████████████████████████████████████████████████| 352/352 [00:09<00:00, 38.00it/s]\n",
      "100%|██████████████████████████████████████████████████████████████████████████████████████████████████████████████████████████████████████████████████████████████████████████████████| 88/88 [00:00<00:00, 121.83it/s]\n",
      "Train Epoch[8/30] loss: 1.111:   1%|█▋                                                                                                                                                  | 4/352 [00:00<00:09, 36.89it/s]"
     ]
    },
    {
     "name": "stdout",
     "output_type": "stream",
     "text": [
      "validation ACC : 0.963941560460056\n",
      "Validation loss decreased (95.166834 --> 95.053157).  Saving model ...\n"
     ]
    },
    {
     "name": "stderr",
     "output_type": "stream",
     "text": [
      "Train Epoch[8/30] loss: 1.082: 100%|██████████████████████████████████████████████████████████████████████████████████████████████████████████████████████████████████████████████████| 352/352 [00:09<00:00, 38.01it/s]\n",
      "100%|██████████████████████████████████████████████████████████████████████████████████████████████████████████████████████████████████████████████████████████████████████████████████| 88/88 [00:00<00:00, 121.68it/s]\n",
      "Train Epoch[9/30] loss: 1.111:   1%|█▋                                                                                                                                                  | 4/352 [00:00<00:09, 37.11it/s]"
     ]
    },
    {
     "name": "stdout",
     "output_type": "stream",
     "text": [
      "validation ACC : 0.9636307118433323\n",
      "Validation loss decreased (95.053157 --> 95.039833).  Saving model ...\n"
     ]
    },
    {
     "name": "stderr",
     "output_type": "stream",
     "text": [
      "Train Epoch[9/30] loss: 1.083: 100%|██████████████████████████████████████████████████████████████████████████████████████████████████████████████████████████████████████████████████| 352/352 [00:09<00:00, 37.66it/s]\n",
      "100%|██████████████████████████████████████████████████████████████████████████████████████████████████████████████████████████████████████████████████████████████████████████████████| 88/88 [00:00<00:00, 121.71it/s]\n",
      "Train Epoch[10/30] loss: 1.110:   1%|█▋                                                                                                                                                 | 4/352 [00:00<00:09, 36.85it/s]"
     ]
    },
    {
     "name": "stdout",
     "output_type": "stream",
     "text": [
      "validation ACC : 0.9639859674053022\n",
      "Validation loss decreased (95.039833 --> 95.001523).  Saving model ...\n"
     ]
    },
    {
     "name": "stderr",
     "output_type": "stream",
     "text": [
      "Train Epoch[10/30] loss: 1.081: 100%|█████████████████████████████████████████████████████████████████████████████████████████████████████████████████████████████████████████████████| 352/352 [00:09<00:00, 38.02it/s]\n",
      "100%|██████████████████████████████████████████████████████████████████████████████████████████████████████████████████████████████████████████████████████████████████████████████████| 88/88 [00:00<00:00, 121.91it/s]\n",
      "Train Epoch[11/30] loss: 1.109:   1%|█▋                                                                                                                                                 | 4/352 [00:00<00:09, 37.40it/s]"
     ]
    },
    {
     "name": "stdout",
     "output_type": "stream",
     "text": [
      "validation ACC : 0.9639859674053022\n",
      "Validation loss decreased (95.001523 --> 94.994801).  Saving model ...\n"
     ]
    },
    {
     "name": "stderr",
     "output_type": "stream",
     "text": [
      "Train Epoch[11/30] loss: 1.081: 100%|█████████████████████████████████████████████████████████████████████████████████████████████████████████████████████████████████████████████████| 352/352 [00:09<00:00, 38.03it/s]\n",
      "100%|██████████████████████████████████████████████████████████████████████████████████████████████████████████████████████████████████████████████████████████████████████████████████| 88/88 [00:00<00:00, 122.21it/s]\n",
      "Train Epoch[12/30] loss: 1.108:   1%|█▋                                                                                                                                                 | 4/352 [00:00<00:09, 36.90it/s]"
     ]
    },
    {
     "name": "stdout",
     "output_type": "stream",
     "text": [
      "validation ACC : 0.964696478529242\n",
      "Validation loss decreased (94.994801 --> 94.814273).  Saving model ...\n"
     ]
    },
    {
     "name": "stderr",
     "output_type": "stream",
     "text": [
      "Train Epoch[12/30] loss: 1.078: 100%|█████████████████████████████████████████████████████████████████████████████████████████████████████████████████████████████████████████████████| 352/352 [00:09<00:00, 38.06it/s]\n",
      "100%|██████████████████████████████████████████████████████████████████████████████████████████████████████████████████████████████████████████████████████████████████████████████████| 88/88 [00:00<00:00, 122.05it/s]\n",
      "Train Epoch[13/30] loss: 1.099:   1%|█▋                                                                                                                                                 | 4/352 [00:00<00:09, 36.91it/s]"
     ]
    },
    {
     "name": "stdout",
     "output_type": "stream",
     "text": [
      "validation ACC : 0.9735334606332431\n",
      "Validation loss decreased (94.814273 --> 94.278732).  Saving model ...\n"
     ]
    },
    {
     "name": "stderr",
     "output_type": "stream",
     "text": [
      "Train Epoch[13/30] loss: 1.073: 100%|█████████████████████████████████████████████████████████████████████████████████████████████████████████████████████████████████████████████████| 352/352 [00:09<00:00, 37.99it/s]\n",
      "100%|██████████████████████████████████████████████████████████████████████████████████████████████████████████████████████████████████████████████████████████████████████████████████| 88/88 [00:00<00:00, 121.71it/s]\n",
      "Train Epoch[14/30] loss: 1.097:   1%|█▋                                                                                                                                                 | 4/352 [00:00<00:09, 36.87it/s]"
     ]
    },
    {
     "name": "stdout",
     "output_type": "stream",
     "text": [
      "validation ACC : 0.9749100759358764\n",
      "Validation loss decreased (94.278732 --> 94.118922).  Saving model ...\n"
     ]
    },
    {
     "name": "stderr",
     "output_type": "stream",
     "text": [
      "Train Epoch[14/30] loss: 1.070: 100%|█████████████████████████████████████████████████████████████████████████████████████████████████████████████████████████████████████████████████| 352/352 [00:09<00:00, 37.60it/s]\n",
      "100%|██████████████████████████████████████████████████████████████████████████████████████████████████████████████████████████████████████████████████████████████████████████████████| 88/88 [00:00<00:00, 122.09it/s]\n",
      "Train Epoch[15/30] loss: 1.093:   1%|█▋                                                                                                                                                 | 4/352 [00:00<00:09, 37.28it/s]"
     ]
    },
    {
     "name": "stdout",
     "output_type": "stream",
     "text": [
      "validation ACC : 0.9745104134286603\n",
      "Validation loss decreased (94.118922 --> 94.110560).  Saving model ...\n"
     ]
    },
    {
     "name": "stderr",
     "output_type": "stream",
     "text": [
      "Train Epoch[15/30] loss: 1.068: 100%|█████████████████████████████████████████████████████████████████████████████████████████████████████████████████████████████████████████████████| 352/352 [00:09<00:00, 38.01it/s]\n",
      "100%|██████████████████████████████████████████████████████████████████████████████████████████████████████████████████████████████████████████████████████████████████████████████████| 88/88 [00:00<00:00, 122.32it/s]\n",
      "Train Epoch[16/30] loss: 1.093:   1%|█▋                                                                                                                                                 | 4/352 [00:00<00:09, 36.96it/s]"
     ]
    },
    {
     "name": "stdout",
     "output_type": "stream",
     "text": [
      "validation ACC : 0.9753097384430925\n",
      "Validation loss decreased (94.110560 --> 94.035480).  Saving model ...\n"
     ]
    },
    {
     "name": "stderr",
     "output_type": "stream",
     "text": [
      "Train Epoch[16/30] loss: 1.068: 100%|█████████████████████████████████████████████████████████████████████████████████████████████████████████████████████████████████████████████████| 352/352 [00:09<00:00, 37.94it/s]\n",
      "100%|██████████████████████████████████████████████████████████████████████████████████████████████████████████████████████████████████████████████████████████████████████████████████| 88/88 [00:00<00:00, 122.21it/s]\n",
      "Train Epoch[17/30] loss: 1.092:   1%|█▋                                                                                                                                                 | 4/352 [00:00<00:09, 37.30it/s]"
     ]
    },
    {
     "name": "stdout",
     "output_type": "stream",
     "text": [
      "validation ACC : 0.9751765176073538\n",
      "Validation loss decreased (94.035480 --> 94.025361).  Saving model ...\n"
     ]
    },
    {
     "name": "stderr",
     "output_type": "stream",
     "text": [
      "Train Epoch[17/30] loss: 1.067: 100%|█████████████████████████████████████████████████████████████████████████████████████████████████████████████████████████████████████████████████| 352/352 [00:09<00:00, 37.84it/s]\n",
      "100%|██████████████████████████████████████████████████████████████████████████████████████████████████████████████████████████████████████████████████████████████████████████████████| 88/88 [00:00<00:00, 121.96it/s]\n",
      "Train Epoch[18/30] loss: 1.090:   1%|█▋                                                                                                                                                 | 4/352 [00:00<00:09, 36.75it/s]"
     ]
    },
    {
     "name": "stdout",
     "output_type": "stream",
     "text": [
      "validation ACC : 0.9757982148408011\n",
      "Validation loss decreased (94.025361 --> 93.990458).  Saving model ...\n"
     ]
    },
    {
     "name": "stderr",
     "output_type": "stream",
     "text": [
      "Train Epoch[18/30] loss: 1.065: 100%|█████████████████████████████████████████████████████████████████████████████████████████████████████████████████████████████████████████████████| 352/352 [00:09<00:00, 37.82it/s]\n",
      "100%|██████████████████████████████████████████████████████████████████████████████████████████████████████████████████████████████████████████████████████████████████████████████████| 88/88 [00:00<00:00, 121.69it/s]\n",
      "Train Epoch[19/30] loss: 1.092:   1%|█▋                                                                                                                                                 | 4/352 [00:00<00:09, 37.93it/s]"
     ]
    },
    {
     "name": "stdout",
     "output_type": "stream",
     "text": [
      "validation ACC : 0.9752209245526\n",
      "EarlyStopping counter: 1 out of 3\n"
     ]
    },
    {
     "name": "stderr",
     "output_type": "stream",
     "text": [
      "Train Epoch[19/30] loss: 1.066: 100%|█████████████████████████████████████████████████████████████████████████████████████████████████████████████████████████████████████████████████| 352/352 [00:09<00:00, 37.47it/s]\n",
      "100%|██████████████████████████████████████████████████████████████████████████████████████████████████████████████████████████████████████████████████████████████████████████████████| 88/88 [00:00<00:00, 122.16it/s]\n",
      "Train Epoch[20/30] loss: 1.091:   1%|█▋                                                                                                                                                 | 4/352 [00:00<00:09, 36.73it/s]"
     ]
    },
    {
     "name": "stdout",
     "output_type": "stream",
     "text": [
      "validation ACC : 0.9761090634575248\n",
      "Validation loss decreased (93.990458 --> 93.946563).  Saving model ...\n"
     ]
    },
    {
     "name": "stderr",
     "output_type": "stream",
     "text": [
      "Train Epoch[20/30] loss: 1.062: 100%|█████████████████████████████████████████████████████████████████████████████████████████████████████████████████████████████████████████████████| 352/352 [00:09<00:00, 37.87it/s]\n",
      "100%|██████████████████████████████████████████████████████████████████████████████████████████████████████████████████████████████████████████████████████████████████████████████████| 88/88 [00:00<00:00, 122.39it/s]\n",
      "Train Epoch[21/30] loss: 1.091:   1%|█▋                                                                                                                                                 | 4/352 [00:00<00:09, 36.22it/s]"
     ]
    },
    {
     "name": "stdout",
     "output_type": "stream",
     "text": [
      "validation ACC : 0.976153470402771\n",
      "EarlyStopping counter: 1 out of 3\n"
     ]
    },
    {
     "name": "stderr",
     "output_type": "stream",
     "text": [
      "Train Epoch[21/30] loss: 1.062: 100%|█████████████████████████████████████████████████████████████████████████████████████████████████████████████████████████████████████████████████| 352/352 [00:09<00:00, 37.82it/s]\n",
      "100%|██████████████████████████████████████████████████████████████████████████████████████████████████████████████████████████████████████████████████████████████████████████████████| 88/88 [00:00<00:00, 121.79it/s]\n",
      "Train Epoch[22/30] loss: 1.088:   1%|█▋                                                                                                                                                 | 4/352 [00:00<00:09, 36.67it/s]"
     ]
    },
    {
     "name": "stdout",
     "output_type": "stream",
     "text": [
      "validation ACC : 0.9762422842932634\n",
      "Validation loss decreased (93.946563 --> 93.928826).  Saving model ...\n"
     ]
    },
    {
     "name": "stderr",
     "output_type": "stream",
     "text": [
      "Train Epoch[22/30] loss: 1.062: 100%|█████████████████████████████████████████████████████████████████████████████████████████████████████████████████████████████████████████████████| 352/352 [00:09<00:00, 37.82it/s]\n",
      "100%|██████████████████████████████████████████████████████████████████████████████████████████████████████████████████████████████████████████████████████████████████████████████████| 88/88 [00:00<00:00, 122.03it/s]\n",
      "Train Epoch[23/30] loss: 1.090:   1%|█▋                                                                                                                                                 | 4/352 [00:00<00:09, 36.71it/s]"
     ]
    },
    {
     "name": "stdout",
     "output_type": "stream",
     "text": [
      "validation ACC : 0.9769527954172033\n",
      "Validation loss decreased (93.928826 --> 93.873231).  Saving model ...\n"
     ]
    },
    {
     "name": "stderr",
     "output_type": "stream",
     "text": [
      "Train Epoch[23/30] loss: 1.062: 100%|█████████████████████████████████████████████████████████████████████████████████████████████████████████████████████████████████████████████████| 352/352 [00:09<00:00, 37.86it/s]\n",
      "100%|██████████████████████████████████████████████████████████████████████████████████████████████████████████████████████████████████████████████████████████████████████████████████| 88/88 [00:00<00:00, 121.78it/s]\n",
      "Train Epoch[24/30] loss: 1.090:   1%|█▋                                                                                                                                                 | 4/352 [00:00<00:09, 36.71it/s]"
     ]
    },
    {
     "name": "stdout",
     "output_type": "stream",
     "text": [
      "validation ACC : 0.9770416093076957\n",
      "Validation loss decreased (93.873231 --> 93.862656).  Saving model ...\n"
     ]
    },
    {
     "name": "stderr",
     "output_type": "stream",
     "text": [
      "Train Epoch[24/30] loss: 1.069: 100%|█████████████████████████████████████████████████████████████████████████████████████████████████████████████████████████████████████████████████| 352/352 [00:09<00:00, 37.42it/s]\n",
      "100%|██████████████████████████████████████████████████████████████████████████████████████████████████████████████████████████████████████████████████████████████████████████████████| 88/88 [00:00<00:00, 121.82it/s]\n",
      "Train Epoch[25/30] loss: 1.088:   1%|█▋                                                                                                                                                 | 4/352 [00:00<00:09, 37.89it/s]"
     ]
    },
    {
     "name": "stdout",
     "output_type": "stream",
     "text": [
      "validation ACC : 0.976153470402771\n",
      "EarlyStopping counter: 1 out of 3\n"
     ]
    },
    {
     "name": "stderr",
     "output_type": "stream",
     "text": [
      "Train Epoch[25/30] loss: 1.063: 100%|█████████████████████████████████████████████████████████████████████████████████████████████████████████████████████████████████████████████████| 352/352 [00:09<00:00, 37.79it/s]\n",
      "100%|██████████████████████████████████████████████████████████████████████████████████████████████████████████████████████████████████████████████████████████████████████████████████| 88/88 [00:00<00:00, 121.84it/s]\n",
      "Train Epoch[26/30] loss: 1.090:   1%|█▋                                                                                                                                                 | 4/352 [00:00<00:09, 37.90it/s]"
     ]
    },
    {
     "name": "stdout",
     "output_type": "stream",
     "text": [
      "validation ACC : 0.9766863537457259\n",
      "EarlyStopping counter: 2 out of 3\n"
     ]
    },
    {
     "name": "stderr",
     "output_type": "stream",
     "text": [
      "Train Epoch[26/30] loss: 1.062: 100%|█████████████████████████████████████████████████████████████████████████████████████████████████████████████████████████████████████████████████| 352/352 [00:09<00:00, 37.81it/s]\n",
      "100%|██████████████████████████████████████████████████████████████████████████████████████████████████████████████████████████████████████████████████████████████████████████████████| 88/88 [00:00<00:00, 121.75it/s]"
     ]
    },
    {
     "name": "stdout",
     "output_type": "stream",
     "text": [
      "validation ACC : 0.9766863537457259\n",
      "EarlyStopping counter: 3 out of 3\n"
     ]
    },
    {
     "name": "stderr",
     "output_type": "stream",
     "text": [
      "\n"
     ]
    }
   ],
   "source": [
    "from tqdm import tqdm\n",
    "from pytorchtools import EarlyStopping\n",
    "\n",
    "train_loader = DataLoader(train_dataset, batch_size=256, shuffle=False)\n",
    "val_loader = DataLoader(val_dataset, batch_size=256, shuffle=False)\n",
    "\n",
    "early_stopping = EarlyStopping(patience = 3, verbose = True)\n",
    "\n",
    "\n",
    "loss_list = []\n",
    "\n",
    "for ep in range(epochs):\n",
    "    train_bar = tqdm(train_loader)\n",
    "    for step, (x,y) in enumerate(train_bar):\n",
    "        \n",
    "        x = x.unsqueeze(dim=1)\n",
    "#         print(\"input,\",x.shape, y.shape)\n",
    "        x, y = x.to(device).float(), y.to(device).long()\n",
    "        model.train()\n",
    "        logits = model(x)\n",
    "        loss = criterion(logits, y)\n",
    "        loss_list.append(loss)\n",
    "#         print(loss)\n",
    "        \n",
    "        optimizer.zero_grad()\n",
    "        loss.backward()\n",
    "        \n",
    "        optimizer.step()\n",
    "        \n",
    "        train_bar.desc = \"Train Epoch[{}/{}] loss: {:.3f}\".format(ep+1, epochs, loss)\n",
    "        global_step +=1\n",
    "    \n",
    "#     model.eval()\n",
    "#     val_loss = 0\n",
    "    \n",
    "#     val_bar = tqdm(val_loader)\n",
    "#     for step, (x_, y_) in enumerate(val_bar):\n",
    "#         x_ = x_.unsqueeze(dim=1).to(device).float()\n",
    "#         y_pred = model(x_)\n",
    "#         y_ = y_.to(device).long()\n",
    "#         print(y_.shape, y_pred.shape)\n",
    "#         loss = criterion(y_pred, y_)\n",
    "        \n",
    "#         val_loss += loss.item()\n",
    "    \n",
    "    acc, val_loss = evaluate_acc(model, val_loader)\n",
    "    if acc > best_acc:\n",
    "        best_acc = acc\n",
    "        torch.save(model.state_dict(), \"./best.mdl\")\n",
    "    \n",
    "        \n",
    "    print(\"validation ACC :\",acc)\n",
    "    early_stopping(val_loss, model)\n",
    "    \n",
    "    if early_stopping.early_stop:\n",
    "        break"
   ]
  },
  {
   "cell_type": "code",
   "execution_count": 224,
   "id": "59d804ae",
   "metadata": {},
   "outputs": [
    {
     "name": "stdout",
     "output_type": "stream",
     "text": [
      "torch.Size([112599, 320]) torch.Size([112599])\n"
     ]
    }
   ],
   "source": [
    "def load_data():\n",
    "    pkl_path = \"./pickle/test/\"\n",
    "    data_x, data_y = [] ,[] \n",
    "    for pkl_file in os.listdir(pkl_path):\n",
    "        if os.path.isdir(pkl_path+pkl_file):\n",
    "            continue\n",
    "        with open(pkl_path+pkl_file, \"rb\") as f:\n",
    "            data = pickle.load(f)\n",
    "            for i,d in enumerate(data[\"Beats\"]):\n",
    "                data_x.append(d)\n",
    "                data_y.append(data[\"symbol\"][i])\n",
    "#             print(torch.tensor(data[\"Beats\"]).shape)\n",
    "#             print(torch.tensor(data[\"symbol\"]).shape)\n",
    "    return torch.tensor(data_x), torch.tensor(data_y)\n",
    "\n",
    "x_test_data, y_test_data = load_data()\n",
    "print(x_data.shape, y_data.shape)\n",
    "\n",
    "test_dataset = torch.utils.data.TensorDataset(x_test_data, y_test_data)\n",
    "test_loader = DataLoader(test_dataset, batch_size=256, shuffle=False)"
   ]
  },
  {
   "cell_type": "code",
   "execution_count": 225,
   "id": "7cdc3c12",
   "metadata": {},
   "outputs": [
    {
     "name": "stderr",
     "output_type": "stream",
     "text": [
      "100%|██████████████████████████████████████████████████████████████████████████████████████████████████████████████████████████████████████████████████████████████████████████████████| 65/65 [00:00<00:00, 122.58it/s]\n"
     ]
    }
   ],
   "source": [
    "test_acc, _ = evaluate_acc(model, test_loader)"
   ]
  },
  {
   "cell_type": "code",
   "execution_count": 226,
   "id": "58aa248b",
   "metadata": {},
   "outputs": [
    {
     "data": {
      "text/plain": [
       "0.8926109565848349"
      ]
     },
     "execution_count": 226,
     "metadata": {},
     "output_type": "execute_result"
    }
   ],
   "source": [
    "test_acc"
   ]
  },
  {
   "cell_type": "markdown",
   "id": "1c39a233",
   "metadata": {},
   "source": [
    "## Accuracy를 향상시키는 방법\n",
    "1. Denoising\n",
    "2. Augmentation\n",
    " * Scailing\n",
    " * Resampling\n",
    " * Clipping\n",
    "\n",
    "Augmentation 방법이 좀 어려움"
   ]
  },
  {
   "cell_type": "code",
   "execution_count": null,
   "id": "d1cd1c07",
   "metadata": {},
   "outputs": [],
   "source": []
  }
 ],
 "metadata": {
  "kernelspec": {
   "display_name": "Python 3 (ipykernel)",
   "language": "python",
   "name": "python3"
  },
  "language_info": {
   "codemirror_mode": {
    "name": "ipython",
    "version": 3
   },
   "file_extension": ".py",
   "mimetype": "text/x-python",
   "name": "python",
   "nbconvert_exporter": "python",
   "pygments_lexer": "ipython3",
   "version": "3.8.5"
  }
 },
 "nbformat": 4,
 "nbformat_minor": 5
}
