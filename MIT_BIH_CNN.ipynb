{
 "cells": [
  {
   "cell_type": "code",
   "execution_count": 1,
   "id": "50d400e6",
   "metadata": {},
   "outputs": [],
   "source": [
    "import wfdb\n",
    "import os\n",
    "import pandas as pd\n",
    "import wfdb.processing as wp\n",
    "import numpy as np\n",
    "from biosppy.signals import ecg, tools\n",
    "\n",
    "\n",
    "import torch\n",
    "import torch.nn as nn\n",
    "from torch.utils.data.dataloader import DataLoader\n",
    "from torch.utils.data.dataset import Dataset\n",
    "from torch.optim import Adam\n",
    "from torchsummary import summary\n",
    "\n",
    "from sklearn.preprocessing import MinMaxScaler as mms\n",
    "\n",
    "import matplotlib.pyplot as plt\n",
    "import matplotlib"
   ]
  },
  {
   "cell_type": "markdown",
   "id": "f1f0bb68",
   "metadata": {},
   "source": [
    "# Data Load (using WFDB)"
   ]
  },
  {
   "cell_type": "code",
   "execution_count": 4,
   "id": "80c48d89",
   "metadata": {},
   "outputs": [],
   "source": [
    "pickle_path = \"./mit_pickle\""
   ]
  },
  {
   "cell_type": "code",
   "execution_count": 5,
   "id": "3bece0e0",
   "metadata": {},
   "outputs": [],
   "source": [
    "def record_extract(input_path):\n",
    "    records = open(input_path+\"RECORDS\",\"r\")\n",
    "    records_list = []\n",
    "    for l in records:\n",
    "        l = l.rstrip()\n",
    "        records_list.append(l)\n",
    "    records.close()\n",
    "    return records_list"
   ]
  },
  {
   "cell_type": "code",
   "execution_count": 6,
   "id": "4e434c83",
   "metadata": {
    "scrolled": true
   },
   "outputs": [
    {
     "name": "stdout",
     "output_type": "stream",
     "text": [
      "['100', '101', '102', '103', '104', '105', '106', '107', '108', '109', '111', '112', '113', '114', '115', '116', '117', '118', '119', '121', '122', '123', '124', '200', '201', '202', '203', '205', '207', '208', '209', '210', '212', '213', '214', '215', '217', '219', '220', '221', '222', '223', '228', '230', '231', '232', '233', '234']\n"
     ]
    }
   ],
   "source": [
    "#data extract from Physionet\n",
    "\n",
    "input_path = \"./physionet/mit-bih_arr/1.0.0/\"\n",
    "records = open(input_path+\"RECORDS\",\"r\")\n",
    "records_list = []\n",
    "for l in records:\n",
    "    l = l.rstrip()\n",
    "    records_list.append(l)\n",
    "records.close()\n",
    "print(records_list)"
   ]
  },
  {
   "cell_type": "code",
   "execution_count": 7,
   "id": "4f50a61c",
   "metadata": {},
   "outputs": [],
   "source": [
    "NORMAL_ANN = ['N', 'L', 'R', 'e', 'j']\n",
    "SUPRA_ANN = ['A', 'a', 'J', 'S']\n",
    "VENTRI_ANN = ['V', 'E']\n",
    "FUSION_ANN = ['F']\n",
    "UNCLASS_ANN = ['/', 'f', 'Q']"
   ]
  },
  {
   "cell_type": "code",
   "execution_count": 8,
   "id": "26264928",
   "metadata": {},
   "outputs": [
    {
     "ename": "NameError",
     "evalue": "name 'record_sig' is not defined",
     "output_type": "error",
     "traceback": [
      "\u001b[0;31m---------------------------------------------------------------------------\u001b[0m",
      "\u001b[0;31mNameError\u001b[0m                                 Traceback (most recent call last)",
      "Input \u001b[0;32mIn [8]\u001b[0m, in \u001b[0;36m<cell line: 1>\u001b[0;34m()\u001b[0m\n\u001b[0;32m----> 1\u001b[0m hb \u001b[38;5;241m=\u001b[39m ecg\u001b[38;5;241m.\u001b[39mextract_heartbeats(signal\u001b[38;5;241m=\u001b[39m\u001b[43mrecord_sig\u001b[49m[\u001b[38;5;241m0\u001b[39m][:,\u001b[38;5;241m0\u001b[39m], rpeaks\u001b[38;5;241m=\u001b[39mrecord_ann, sampling_rate\u001b[38;5;241m=\u001b[39m\u001b[38;5;241m360\u001b[39m,before\u001b[38;5;241m=\u001b[39m\u001b[38;5;241m0.3\u001b[39m,after\u001b[38;5;241m=\u001b[39m\u001b[38;5;241m0.3\u001b[39m)\n",
      "\u001b[0;31mNameError\u001b[0m: name 'record_sig' is not defined"
     ]
    }
   ],
   "source": [
    "hb = ecg.extract_heartbeats(signal=record_sig[0][:,0], rpeaks=record_ann, sampling_rate=360,before=0.3,after=0.3)"
   ]
  },
  {
   "cell_type": "code",
   "execution_count": 9,
   "id": "8152597a",
   "metadata": {},
   "outputs": [
    {
     "ename": "NameError",
     "evalue": "name 'record_sig' is not defined",
     "output_type": "error",
     "traceback": [
      "\u001b[0;31m---------------------------------------------------------------------------\u001b[0m",
      "\u001b[0;31mNameError\u001b[0m                                 Traceback (most recent call last)",
      "Input \u001b[0;32mIn [9]\u001b[0m, in \u001b[0;36m<cell line: 1>\u001b[0;34m()\u001b[0m\n\u001b[0;32m----> 1\u001b[0m rpeaks_ch \u001b[38;5;241m=\u001b[39m ecg\u001b[38;5;241m.\u001b[39mchristov_segmenter(signal\u001b[38;5;241m=\u001b[39m\u001b[43mrecord_sig\u001b[49m[\u001b[38;5;241m0\u001b[39m][:,\u001b[38;5;241m0\u001b[39m], sampling_rate\u001b[38;5;241m=\u001b[39m\u001b[38;5;241m360\u001b[39m)\n",
      "\u001b[0;31mNameError\u001b[0m: name 'record_sig' is not defined"
     ]
    }
   ],
   "source": [
    "rpeaks_ch = ecg.christov_segmenter(signal=record_sig[0][:,0], sampling_rate=360)"
   ]
  },
  {
   "cell_type": "code",
   "execution_count": 10,
   "id": "502c0533",
   "metadata": {},
   "outputs": [
    {
     "ename": "NameError",
     "evalue": "name 'record_sig' is not defined",
     "output_type": "error",
     "traceback": [
      "\u001b[0;31m---------------------------------------------------------------------------\u001b[0m",
      "\u001b[0;31mNameError\u001b[0m                                 Traceback (most recent call last)",
      "Input \u001b[0;32mIn [10]\u001b[0m, in \u001b[0;36m<cell line: 1>\u001b[0;34m()\u001b[0m\n\u001b[0;32m----> 1\u001b[0m rpeaks_ha \u001b[38;5;241m=\u001b[39m ecg\u001b[38;5;241m.\u001b[39mhamilton_segmenter(signal\u001b[38;5;241m=\u001b[39m\u001b[43mrecord_sig\u001b[49m[\u001b[38;5;241m0\u001b[39m][:,\u001b[38;5;241m0\u001b[39m], sampling_rate\u001b[38;5;241m=\u001b[39m\u001b[38;5;241m360\u001b[39m)\n",
      "\u001b[0;31mNameError\u001b[0m: name 'record_sig' is not defined"
     ]
    }
   ],
   "source": [
    "rpeaks_ha = ecg.hamilton_segmenter(signal=record_sig[0][:,0], sampling_rate=360)"
   ]
  },
  {
   "cell_type": "code",
   "execution_count": 11,
   "id": "0a8d4566",
   "metadata": {
    "scrolled": true
   },
   "outputs": [
    {
     "ename": "NameError",
     "evalue": "name 'rpeaks_ha' is not defined",
     "output_type": "error",
     "traceback": [
      "\u001b[0;31m---------------------------------------------------------------------------\u001b[0m",
      "\u001b[0;31mNameError\u001b[0m                                 Traceback (most recent call last)",
      "Input \u001b[0;32mIn [11]\u001b[0m, in \u001b[0;36m<cell line: 1>\u001b[0;34m()\u001b[0m\n\u001b[0;32m----> 1\u001b[0m comp \u001b[38;5;241m=\u001b[39m ecg\u001b[38;5;241m.\u001b[39mcompare_segmentation(\u001b[43mrpeaks_ha\u001b[49m[\u001b[38;5;124m\"\u001b[39m\u001b[38;5;124mrpeaks\u001b[39m\u001b[38;5;124m\"\u001b[39m],record_ann,sampling_rate\u001b[38;5;241m=\u001b[39m\u001b[38;5;241m360\u001b[39m)\n",
      "\u001b[0;31mNameError\u001b[0m: name 'rpeaks_ha' is not defined"
     ]
    }
   ],
   "source": [
    "comp = ecg.compare_segmentation(rpeaks_ha[\"rpeaks\"],record_ann,sampling_rate=360)"
   ]
  },
  {
   "cell_type": "code",
   "execution_count": 151,
   "id": "26e23b8e",
   "metadata": {
    "scrolled": true
   },
   "outputs": [],
   "source": [
    "count = 0\n",
    "for i in comp[\"match\"]:\n",
    "    if i == count:\n",
    "        pass\n",
    "    else:\n",
    "        print(\"Missing match I,\",i,count)\n",
    "    count+=1"
   ]
  },
  {
   "cell_type": "code",
   "execution_count": 198,
   "id": "e3f4422d",
   "metadata": {
    "scrolled": true
   },
   "outputs": [
    {
     "data": {
      "text/plain": [
       "(2272, 2272)"
      ]
     },
     "execution_count": 198,
     "metadata": {},
     "output_type": "execute_result"
    }
   ],
   "source": [
    "len(beat[\"Beats\"]),len(beat[\"rpeaks\"])"
   ]
  },
  {
   "cell_type": "code",
   "execution_count": 202,
   "id": "02ed1e55",
   "metadata": {},
   "outputs": [],
   "source": [
    "beat[\"symbol\"]=record_ann_sym[:-1]"
   ]
  },
  {
   "cell_type": "code",
   "execution_count": 212,
   "id": "cce713ed",
   "metadata": {},
   "outputs": [
    {
     "data": {
      "text/plain": [
       "[<matplotlib.lines.Line2D at 0x7ff52bd49250>]"
      ]
     },
     "execution_count": 212,
     "metadata": {},
     "output_type": "execute_result"
    },
    {
     "data": {
      "image/png": "[encoded data removed]",
      "text/plain": [
       "<Figure size 1152x504 with 1 Axes>"
      ]
     },
     "metadata": {
      "needs_background": "light"
     },
     "output_type": "display_data"
    }
   ],
   "source": [
    "from sklearn import MinMaxScaler as mms\n",
    "beat[\"\"]\n",
    "\n",
    "fig = plt.figure(figsize=(16, 7))\n",
    "ax = fig.add_subplot(1,1,1)\n",
    "ax.set_title(\"Heart Beat\")\n",
    "ax.plot(beat[\"Beats\"][1080])"
   ]
  },
  {
   "cell_type": "code",
   "execution_count": 12,
   "id": "2afa06a5",
   "metadata": {
    "scrolled": true
   },
   "outputs": [
    {
     "name": "stdout",
     "output_type": "stream",
     "text": [
      "Record 100\n",
      "Beats, Rpeaks Len,  2273 2273 2273\n",
      "320 320\n",
      "Record 101\n",
      "Beats, Rpeaks Len,  1873 1873 1873\n",
      "320 320\n",
      "Record 102\n",
      "Beats, Rpeaks Len,  2191 2191 2191\n",
      "320 320\n",
      "Record 103\n",
      "Beats, Rpeaks Len,  2090 2090 2090\n",
      "320 320\n",
      "Record 104\n",
      "Beats, Rpeaks Len,  2310 2310 2310\n",
      "320 320\n",
      "Record 105\n",
      "Beats, Rpeaks Len,  2690 2690 2690\n",
      "320 320\n",
      "Record 106\n",
      "Beats, Rpeaks Len,  2097 2097 2097\n",
      "320 320\n",
      "Record 107\n",
      "Beats, Rpeaks Len,  2139 2139 2139\n",
      "320 320\n",
      "Record 108\n",
      "Beats, Rpeaks Len,  1823 1823 1823\n",
      "320 320\n",
      "Record 109\n",
      "Beats, Rpeaks Len,  2534 2534 2534\n",
      "320 320\n",
      "Record 111\n",
      "Beats, Rpeaks Len,  2132 2132 2132\n",
      "320 320\n",
      "Record 112\n",
      "Beats, Rpeaks Len,  2549 2549 2549\n",
      "320 320\n",
      "Record 113\n",
      "Beats, Rpeaks Len,  1795 1795 1795\n",
      "320 320\n",
      "Record 114\n",
      "Beats, Rpeaks Len,  1889 1889 1889\n",
      "320 320\n",
      "Record 115\n",
      "Beats, Rpeaks Len,  1961 1961 1961\n",
      "320 320\n",
      "Record 116\n",
      "Beats, Rpeaks Len,  2420 2420 2420\n",
      "320 320\n",
      "Record 117\n",
      "Beats, Rpeaks Len,  1538 1538 1538\n",
      "320 320\n",
      "Record 118\n",
      "Beats, Rpeaks Len,  2300 2300 2300\n",
      "320 320\n",
      "Record 119\n",
      "Beats, Rpeaks Len,  2093 2093 2093\n",
      "320 320\n",
      "Record 121\n",
      "Beats, Rpeaks Len,  1875 1875 1875\n",
      "320 320\n",
      "Record 122\n",
      "Beats, Rpeaks Len,  2478 2478 2478\n",
      "320 320\n",
      "Record 123\n",
      "Beats, Rpeaks Len,  1518 1518 1518\n",
      "320 320\n",
      "Record 124\n",
      "Beats, Rpeaks Len,  1633 1633 1633\n",
      "320 320\n",
      "Record 200\n",
      "Beats, Rpeaks Len,  2791 2791 2791\n",
      "320 320\n",
      "Record 201\n",
      "Beats, Rpeaks Len,  2038 2038 2038\n",
      "320 320\n",
      "Record 202\n",
      "Beats, Rpeaks Len,  2145 2145 2145\n",
      "320 320\n",
      "Record 203\n",
      "Beats, Rpeaks Len,  3107 3107 3107\n",
      "320 320\n",
      "Record 205\n",
      "Beats, Rpeaks Len,  2671 2671 2671\n",
      "320 320\n",
      "Record 207\n",
      "Beats, Rpeaks Len,  2384 2384 2384\n",
      "320 320\n",
      "Record 208\n",
      "Beats, Rpeaks Len,  3039 3039 3039\n",
      "320 320\n",
      "Record 209\n",
      "Beats, Rpeaks Len,  3051 3051 3051\n",
      "320 320\n",
      "Record 210\n",
      "Beats, Rpeaks Len,  2684 2684 2684\n",
      "320 320\n",
      "Record 212\n",
      "Beats, Rpeaks Len,  2762 2762 2762\n",
      "320 320\n",
      "Record 213\n",
      "Beats, Rpeaks Len,  3293 3293 3293\n",
      "320 320\n",
      "Record 214\n",
      "Beats, Rpeaks Len,  2296 2296 2296\n",
      "320 320\n",
      "Record 215\n",
      "Beats, Rpeaks Len,  3399 3399 3399\n",
      "320 320\n",
      "Record 217\n",
      "Beats, Rpeaks Len,  2279 2279 2279\n",
      "320 320\n",
      "Record 219\n",
      "Beats, Rpeaks Len,  2311 2311 2311\n",
      "320 320\n",
      "Record 220\n",
      "Beats, Rpeaks Len,  2068 2068 2068\n",
      "320 320\n",
      "Record 221\n",
      "Beats, Rpeaks Len,  2461 2461 2461\n",
      "320 320\n",
      "Record 222\n",
      "Beats, Rpeaks Len,  2633 2633 2633\n",
      "320 320\n",
      "Record 223\n",
      "Beats, Rpeaks Len,  2642 2642 2642\n",
      "320 320\n",
      "Record 228\n",
      "Beats, Rpeaks Len,  2140 2140 2140\n",
      "320 320\n",
      "Record 230\n",
      "Beats, Rpeaks Len,  2465 2465 2465\n",
      "320 320\n",
      "Record 231\n",
      "Beats, Rpeaks Len,  2010 2010 2010\n",
      "320 320\n",
      "Record 232\n",
      "Beats, Rpeaks Len,  1815 1815 1815\n",
      "320 320\n",
      "Record 233\n",
      "Beats, Rpeaks Len,  3151 3151 3151\n",
      "320 320\n",
      "Record 234\n",
      "Beats, Rpeaks Len,  2763 2763 2763\n",
      "320 320\n"
     ]
    }
   ],
   "source": [
    "window_size = 320\n",
    "def extract_from_sbj(idx):\n",
    "    record_sig = wfdb.rdsamp(input_path+records_list[idx], channels=[0], sampfrom=0)\n",
    "    record_ann = list(wfdb.rdann(input_path+records_list[idx],\"atr\", sampfrom=0).sample)[1:]\n",
    "    record_ann_sym = list(wfdb.rdann(input_path+records_list[idx], \"atr\", sampfrom=0).symbol)[1:]\n",
    "    interval = wp.ann2rr(input_path+records_list[idx], \"atr\", as_array=True)\n",
    "    \n",
    "    rpeaks_ch = ecg.christov_segmenter(signal=record_sig[0][:,0], sampling_rate=360)\n",
    "    rpeaks_ha = ecg.hamilton_segmenter(signal=record_sig[0][:,0], sampling_rate=360)\n",
    "    \n",
    "    #h_beat = ecg.extract_heartbeats(signal=record_sig[0][:,0], rpeaks=rpeaks_ha, sampling_rate=360)\n",
    "    NORMAL_ANN = ['N', 'L', 'R', 'e', 'j']\n",
    "    SUPRA_ANN = ['A', 'a', 'J', 'S']\n",
    "    VENTRI_ANN = ['V', 'E']\n",
    "    FUSION_ANN = ['F']\n",
    "    UNCLASS_ANN = ['/', 'f', 'Q']\n",
    "    \n",
    "    for i,sym in enumerate(record_ann_sym):\n",
    "        if sym in NORMAL_ANN:\n",
    "            record_ann_sym[i] = \"N\"\n",
    "        elif sym in SUPRA_ANN:\n",
    "            record_ann_sym[i] = \"S\"\n",
    "        elif sym in VENTRI_ANN:\n",
    "            record_ann_sym[i] = \"V\"\n",
    "        elif sym in FUSION_ANN:\n",
    "            record_ann_sym[i] = \"F\"\n",
    "        elif sym in UNCLASS_ANN:\n",
    "            record_ann_sym[i] = \"Q\"\n",
    "        else:\n",
    "            record_ann_sym[i] = \" \"\n",
    "    \n",
    "    def beat_Padding(beat,w_size):\n",
    "        beat_len = len(beat)\n",
    "        if beat_len <= w_size:\n",
    "            pd_size = (w_size - beat_len)//2\n",
    "        pad_beat = np.pad(beat, (pd_size, pd_size), \"constant\", constant_values=0)\n",
    "        \n",
    "        if len(pad_beat) < w_size:\n",
    "            pad_beat = np.pad(pad_beat, (0, w_size - len(pad_beat)), \"constant\", constant_values=0)\n",
    "        elif len(pad_beat) > w_size:\n",
    "            pad_beat = pad_beat[0:-(len(pad_beat)-w_size)]\n",
    "        \n",
    "        \n",
    "        return pad_beat\n",
    "    \n",
    "    def beat_extraction(signal,rpeaks): # Peak를 기점으로 앞뒤로 0.3초 정도의 window를 가지는 Beat들\n",
    "        beat = []\n",
    "        for i,rp in enumerate(rpeaks):\n",
    "            if i == 0: # 0.3초 정도의 window\n",
    "                start = int(rp-(0.3*360))\n",
    "                if start < 0:\n",
    "                    start = 0\n",
    "                end = int(rp+(0.3*360))\n",
    "                sig_beat = beat_Padding(signal[start:end], window_size)\n",
    "                beat.append(sig_beat)\n",
    "                continue\n",
    "            \n",
    "            # 양쪽으로 30% 정도 남겨서 짜르기\n",
    "            \n",
    "            start = int(rp-(0.3 * 360))\n",
    "            end = int(rp+(0.3 * 360))\n",
    "            \n",
    "            if end > len(signal):\n",
    "                end = len(signal-1)\n",
    "                \n",
    "            # Beat Padding\n",
    "            sig_beat = beat_Padding(signal[start:end], window_size)\n",
    "            beat.append(sig_beat)\n",
    "\n",
    "        return {\"Beats\":beat,\"rpeaks\":rpeaks, \"symbol\":record_ann}\n",
    "    \n",
    "    beat = beat_extraction(record_sig[0][:,0], record_ann)\n",
    "    \n",
    "    print(\"Beats, Rpeaks Len, \",len(beat[\"Beats\"]),len(beat[\"rpeaks\"]), len(record_ann))\n",
    "    \n",
    "    beat[\"symbol\"]=record_ann_sym[:-1]\n",
    "    max_len = -1\n",
    "    min_len = 9999\n",
    "    for i,datas in enumerate(zip(beat[\"rpeaks\"],beat[\"symbol\"])):\n",
    "        max_len = max(max_len, len(beat[\"Beats\"][i]))\n",
    "        min_len = min(min_len, len(beat[\"Beats\"][i]))\n",
    "    return max_len, min_len, beat\n",
    "\n",
    "datas = {}\n",
    "\n",
    "for i,rec in enumerate(records_list):\n",
    "    print(\"Record\",rec)\n",
    "    maxs, mins, beats = extract_from_sbj(i)\n",
    "    datas[rec]=beats\n",
    "    print(maxs,mins)"
   ]
  },
  {
   "cell_type": "code",
   "execution_count": 15,
   "id": "6674473d",
   "metadata": {},
   "outputs": [],
   "source": [
    "pickle_path = \"./mit_pickle\""
   ]
  },
  {
   "cell_type": "code",
   "execution_count": 16,
   "id": "9a07ac68",
   "metadata": {},
   "outputs": [],
   "source": [
    "# Save pickle File\n",
    "\n",
    "import pickle\n",
    "\n",
    "for rec in records_list:\n",
    "    pickle_data = pickle_path + \"/\" + rec + \".pkl\"\n",
    "    with open(pickle_data,\"wb\") as f:\n",
    "        pickle.dump(datas[rec], f, pickle.HIGHEST_PROTOCOL)"
   ]
  },
  {
   "cell_type": "markdown",
   "id": "a06e0a1a",
   "metadata": {},
   "source": [
    "### Model\n",
    "\n",
    "\n"
   ]
  },
  {
   "cell_type": "code",
   "execution_count": 2,
   "id": "0da3046a",
   "metadata": {},
   "outputs": [],
   "source": [
    "# Interpretation of Electrocardiogram Heartbeat by CNN and GRU (not Use)\n",
    "class LFEM(nn.Module):\n",
    "    def __init__(self, in_channel, out_channel, kernel_size):\n",
    "        super(LFEM, self).__init__()\n",
    "        \n",
    "        self.lfem_seq = nn.Sequential(\n",
    "            nn.Conv1d(in_channels=in_channel, out_channels=out_channel, kernel_size=kernel_size, stride=1, padding=\"same\"),\n",
    "            nn.BatchNorm1d(out_channel),\n",
    "            nn.ReLU(),\n",
    "            nn.MaxPool1d(2),\n",
    "        )\n",
    "    \n",
    "    def forward(self, x):\n",
    "        return self.lfem_seq(x)\n",
    "\n",
    "class LFEM_Stack(nn.Module):\n",
    "    def __init__(self, num_layer=6):\n",
    "        super(LFEM_Stack, self).__init__()\n",
    "        \n",
    "        self.num_layer = num_layer\n",
    "        self.lfem_list = []\n",
    "        layer_size=[64,64,128,128,256,256]\n",
    "        for i in range(num_layer-1):\n",
    "            self.lfem_list.append(LFEM(in_channel=layer_size[i], out_channel=layer_size[i+1], kernel_size=3))\n",
    "        self.lfem_list.append(LFEM(in_channel=layer_size[5], out_channel=layer_size[5], kernel_size=3))\n",
    "            \n",
    "    def forward(self, x):\n",
    "        for i in range(self.num_layer):\n",
    "            x = self.lfem_list[i](x)\n",
    "            \n",
    "        return x\n",
    "    "
   ]
  },
  {
   "cell_type": "code",
   "execution_count": 3,
   "id": "f7df9491",
   "metadata": {},
   "outputs": [],
   "source": [
    "class conv_gru(nn.Module):\n",
    "    def __init__(self, in_channel, out_channel):\n",
    "        super(conv_gru, self).__init__()\n",
    "        \n",
    "        #input Layer\n",
    "        self.input_Seq1 = nn.Sequential(\n",
    "            nn.Conv1d(in_channels=in_channel, out_channels=32, kernel_size=3, stride=1, padding=\"same\"),\n",
    "            nn.BatchNorm1d(32),\n",
    "            nn.ReLU()\n",
    "        )\n",
    "        self.input_Seq2 = nn.Sequential(\n",
    "            nn.Conv1d(in_channels=32, out_channels=64, kernel_size=3, stride=1, padding=\"same\"),\n",
    "            nn.BatchNorm1d(64),\n",
    "            nn.ReLU()\n",
    "        )\n",
    "        self.input_Seq3 = nn.Sequential(\n",
    "            nn.Conv1d(in_channels=64, out_channels=128, kernel_size=3, stride=1, padding=\"same\"),\n",
    "            nn.BatchNorm1d(128),\n",
    "            nn.ReLU()\n",
    "        )\n",
    "        self.input_Seq4 = nn.Sequential(\n",
    "            nn.Conv1d(in_channels=128, out_channels=256, kernel_size=3, stride=1, padding=\"same\"),\n",
    "            nn.BatchNorm1d(256),\n",
    "            nn.ReLU()\n",
    "        )\n",
    "#         self.lfem_module = LFEM_Stack(6)\n",
    "        # reshape\n",
    "        # dropout\n",
    "        # gru\n",
    "        # dense 1\n",
    "        # dense 2\n",
    "        self.dropout = nn.Dropout(0.3)\n",
    "        self.gru = nn.GRU(input_size=256, hidden_size=512 ,num_layers=2, bidirectional=True)\n",
    "        self.dense1 = nn.Linear(512,256)\n",
    "        self.dense2 = nn.Linear(256,out_channel)\n",
    "        \n",
    "    def forward(self, x):\n",
    "        \n",
    "        x = self.input_Seq1(x)\n",
    "        x = self.input_Seq2(x)\n",
    "        x = self.input_Seq3(x)\n",
    "        x = self.input_Seq4(x)\n",
    "        x = self.dropout(x)\n",
    "        x = self.gru(x)\n",
    "        x = self.dense1(x)\n",
    "        x = self.dense2(x)\n",
    "        print(x.shape)\n",
    "        return x"
   ]
  },
  {
   "cell_type": "code",
   "execution_count": 4,
   "id": "b19795a3",
   "metadata": {},
   "outputs": [],
   "source": [
    "def train(train_data):\n",
    "    \n",
    "    device = \"cuda\" if torch.cuda.is_available() else \"cpu\"\n",
    "    model = conv_gru(in_channel=1,out_channel=5)\n",
    "    print(model)"
   ]
  },
  {
   "cell_type": "code",
   "execution_count": 5,
   "id": "e57be0a3",
   "metadata": {},
   "outputs": [
    {
     "name": "stdout",
     "output_type": "stream",
     "text": [
      "conv_gru(\n",
      "  (input_Seq1): Sequential(\n",
      "    (0): Conv1d(1, 32, kernel_size=(3,), stride=(1,), padding=same)\n",
      "    (1): BatchNorm1d(32, eps=1e-05, momentum=0.1, affine=True, track_running_stats=True)\n",
      "    (2): ReLU()\n",
      "  )\n",
      "  (input_Seq2): Sequential(\n",
      "    (0): Conv1d(32, 64, kernel_size=(3,), stride=(1,), padding=same)\n",
      "    (1): BatchNorm1d(64, eps=1e-05, momentum=0.1, affine=True, track_running_stats=True)\n",
      "    (2): ReLU()\n",
      "  )\n",
      "  (input_Seq3): Sequential(\n",
      "    (0): Conv1d(64, 128, kernel_size=(3,), stride=(1,), padding=same)\n",
      "    (1): BatchNorm1d(128, eps=1e-05, momentum=0.1, affine=True, track_running_stats=True)\n",
      "    (2): ReLU()\n",
      "  )\n",
      "  (input_Seq4): Sequential(\n",
      "    (0): Conv1d(128, 256, kernel_size=(3,), stride=(1,), padding=same)\n",
      "    (1): BatchNorm1d(256, eps=1e-05, momentum=0.1, affine=True, track_running_stats=True)\n",
      "    (2): ReLU()\n",
      "  )\n",
      "  (dropout): Dropout(p=0.3, inplace=False)\n",
      "  (gru): GRU(256, 512, num_layers=2, bidirectional=True)\n",
      "  (dense1): Linear(in_features=512, out_features=256, bias=True)\n",
      "  (dense2): Linear(in_features=256, out_features=5, bias=True)\n",
      ")\n"
     ]
    }
   ],
   "source": [
    "model = conv_gru(in_channel=1,out_channel=5)\n",
    "print(model)"
   ]
  },
  {
   "cell_type": "code",
   "execution_count": 30,
   "id": "d08c8d0c",
   "metadata": {
    "scrolled": false
   },
   "outputs": [
    {
     "name": "stdout",
     "output_type": "stream",
     "text": [
      "=================================================================\n",
      "Layer (type:depth-idx)                   Param #\n",
      "=================================================================\n",
      "├─Sequential: 1-1                        --\n",
      "|    └─Conv1d: 2-1                       128\n",
      "|    └─BatchNorm1d: 2-2                  64\n",
      "|    └─ReLU: 2-3                         --\n",
      "├─Sequential: 1-2                        --\n",
      "|    └─Conv1d: 2-4                       6,208\n",
      "|    └─BatchNorm1d: 2-5                  128\n",
      "|    └─ReLU: 2-6                         --\n",
      "├─Sequential: 1-3                        --\n",
      "|    └─Conv1d: 2-7                       24,704\n",
      "|    └─BatchNorm1d: 2-8                  256\n",
      "|    └─ReLU: 2-9                         --\n",
      "├─Sequential: 1-4                        --\n",
      "|    └─Conv1d: 2-10                      98,560\n",
      "|    └─BatchNorm1d: 2-11                 512\n",
      "|    └─ReLU: 2-12                        --\n",
      "├─Dropout: 1-5                           --\n",
      "├─GRU: 1-6                               7,090,176\n",
      "├─Linear: 1-7                            131,328\n",
      "├─Linear: 1-8                            1,285\n",
      "=================================================================\n",
      "Total params: 7,353,349\n",
      "Trainable params: 7,353,349\n",
      "Non-trainable params: 0\n",
      "=================================================================\n",
      "\n"
     ]
    }
   ],
   "source": [
    "# Data Loader\n",
    "summary(model)\n",
    "print()"
   ]
  },
  {
   "cell_type": "code",
   "execution_count": 31,
   "id": "972657ff",
   "metadata": {},
   "outputs": [],
   "source": [
    "# Data Loader\n",
    "\n",
    "trainloader"
   ]
  },
  {
   "cell_type": "code",
   "execution_count": null,
   "id": "30cd3d13",
   "metadata": {},
   "outputs": [],
   "source": []
  }
 ],
 "metadata": {
  "kernelspec": {
   "display_name": "Python 3 (ipykernel)",
   "language": "python",
   "name": "python3"
  },
  "language_info": {
   "codemirror_mode": {
    "name": "ipython",
    "version": 3
   },
   "file_extension": ".py",
   "mimetype": "text/x-python",
   "name": "python",
   "nbconvert_exporter": "python",
   "pygments_lexer": "ipython3",
   "version": "3.8.5"
  }
 },
 "nbformat": 4,
 "nbformat_minor": 5
}
